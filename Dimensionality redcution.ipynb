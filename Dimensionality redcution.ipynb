{
 "cells": [
  {
   "cell_type": "code",
   "execution_count": 1,
   "metadata": {
    "collapsed": true
   },
   "outputs": [],
   "source": [
    "%load_ext watermark"
   ]
  },
  {
   "cell_type": "code",
   "execution_count": 7,
   "metadata": {},
   "outputs": [
    {
     "name": "stdout",
     "output_type": "stream",
     "text": [
      "Seema Mishra 2017-09-26 PDT\n",
      "\n",
      "CPython 2.7.13\n",
      "IPython 5.3.0\n",
      "\n",
      "sklearn 0.19.0\n",
      "matplotlib 2.0.2\n",
      "numpy 1.13.1\n",
      "pandas 0.20.1\n"
     ]
    }
   ],
   "source": [
    "%watermark -v -d -z -a 'Seema Mishra' -p sklearn,matplotlib,numpy,pandas"
   ]
  },
  {
   "cell_type": "code",
   "execution_count": null,
   "metadata": {
    "collapsed": true
   },
   "outputs": [],
   "source": [
    "%matplotlib inline"
   ]
  },
  {
   "cell_type": "markdown",
   "metadata": {},
   "source": [
    "### Principal Component Analysis:\n",
    "\n",
    "1. **Standarize the data set: Putting all data into same scale**\n",
    "\n",
    "2. **Eigendecomposition- Computing Eigen vectors and Eigen vlaues**\n",
    "    * Computation of Covariacne matrix\n",
    "    * Correlation matrix\n",
    "    * Singualr Value Decompostion\n",
    "    \n",
    "3. **Selecting Principal Components**\n",
    "    * Soritng eigen pairs\n",
    "    * Explained Variance\n",
    "    * Projection Matrix\n",
    "    \n",
    "4. **Project onto new feature space**\n",
    "\n"
   ]
  },
  {
   "cell_type": "markdown",
   "metadata": {},
   "source": [
    "### Introduction\n",
    "\n",
    "The sheer size of data in the modern age is not only a challenge for computer hardware but also a main bottleneck for the performance of many machine learning algorithms. The main goal of a PCA analysis is to identify patterns in data; PCA aims to detect the correlation between variables. If a strong correlation between variables exists, the attempt to reduce the dimensionality only makes sense. In a nutshell, this is what PCA is all about: Finding the directions of maximum variance in high-dimensional data and project it onto a smaller dimensional subspace while retaining most of the information."
   ]
  },
  {
   "cell_type": "code",
   "execution_count": 8,
   "metadata": {
    "collapsed": true
   },
   "outputs": [],
   "source": [
    "import warnings\n",
    "warnings.filterwarnings(\"ignore\", category=DeprecationWarning)\n",
    "# Problem Definition\n"
   ]
  },
  {
   "cell_type": "code",
   "execution_count": 128,
   "metadata": {},
   "outputs": [],
   "source": [
    "#!/usr/bin/python\n",
    "\n",
    "import sys\n",
    "import pickle\n",
    "sys.path.append(\"../tools/\")\n",
    "sys.path.append(\"../test/\")\n",
    "sys.path.append(\"../datasets/\")\n",
    "import pandas as pd\n",
    "import scipy as sp\n",
    "import matplotlib.pyplot as plt\n",
    "from feature_format import featureFormat, targetFeatureSplit\n",
    "\n",
    "from pprint import pprint\n",
    "%matplotlib inline\n",
    "import numpy as np"
   ]
  },
  {
   "cell_type": "code",
   "execution_count": 188,
   "metadata": {
    "collapsed": true
   },
   "outputs": [],
   "source": [
    "### Load the dictionary containing the dataset\n",
    "data_dict = pickle.load(open(\"/Users/seemamishra/Documents/Udacity/Intro to machine learning/ud120-projects/final_project/Enron Fraud Detection/datasets/final_project_dataset.pkl\", \"r\"))"
   ]
  },
  {
   "cell_type": "code",
   "execution_count": 190,
   "metadata": {
    "collapsed": true
   },
   "outputs": [],
   "source": [
    "def to_pandas(dict):\n",
    "    df = pd.DataFrame.from_dict(dict, orient='index')\n",
    "#     df.reset_index(level=0, inplace=True)\n",
    "    columns = list(df.columns)\n",
    "#     columns[0] = 'name'\n",
    "    df.columns = columns\n",
    "    return(df)"
   ]
  },
  {
   "cell_type": "code",
   "execution_count": 191,
   "metadata": {},
   "outputs": [],
   "source": [
    "Enron_data = to_pandas(data_dict)\n",
    "\n",
    "Enron_data.replace('NaN', np.nan, inplace = True)\n",
    "Enron_data = Enron_data.fillna(0)\n",
    "# Enron_data"
   ]
  },
  {
   "cell_type": "code",
   "execution_count": 192,
   "metadata": {},
   "outputs": [
    {
     "data": {
      "text/plain": [
       "['salary',\n",
       " 'to_messages',\n",
       " 'deferral_payments',\n",
       " 'total_payments',\n",
       " 'exercised_stock_options',\n",
       " 'bonus',\n",
       " 'restricted_stock',\n",
       " 'shared_receipt_with_poi',\n",
       " 'restricted_stock_deferred',\n",
       " 'total_stock_value',\n",
       " 'expenses',\n",
       " 'loan_advances',\n",
       " 'from_messages',\n",
       " 'other',\n",
       " 'from_this_person_to_poi',\n",
       " 'poi',\n",
       " 'director_fees',\n",
       " 'deferred_income',\n",
       " 'long_term_incentive',\n",
       " 'email_address',\n",
       " 'from_poi_to_this_person']"
      ]
     },
     "execution_count": 192,
     "metadata": {},
     "output_type": "execute_result"
    }
   ],
   "source": [
    "data = Enron_data\n",
    "list(Enron_data.columns)"
   ]
  },
  {
   "cell_type": "code",
   "execution_count": 123,
   "metadata": {},
   "outputs": [],
   "source": [
    "# Enron_data['poi'] = Enron_data['poi'].map({'True': 1, 'False': 0})\n"
   ]
  },
  {
   "cell_type": "code",
   "execution_count": 193,
   "metadata": {},
   "outputs": [],
   "source": [
    "del data['email_address']"
   ]
  },
  {
   "cell_type": "code",
   "execution_count": 194,
   "metadata": {},
   "outputs": [
    {
     "data": {
      "text/plain": [
       "['salary',\n",
       " 'to_messages',\n",
       " 'deferral_payments',\n",
       " 'total_payments',\n",
       " 'exercised_stock_options',\n",
       " 'bonus',\n",
       " 'restricted_stock',\n",
       " 'shared_receipt_with_poi',\n",
       " 'restricted_stock_deferred',\n",
       " 'total_stock_value',\n",
       " 'expenses',\n",
       " 'loan_advances',\n",
       " 'from_messages',\n",
       " 'other',\n",
       " 'from_this_person_to_poi',\n",
       " 'poi',\n",
       " 'director_fees',\n",
       " 'deferred_income',\n",
       " 'long_term_incentive',\n",
       " 'from_poi_to_this_person']"
      ]
     },
     "execution_count": 194,
     "metadata": {},
     "output_type": "execute_result"
    }
   ],
   "source": [
    "list(data.columns)"
   ]
  },
  {
   "cell_type": "code",
   "execution_count": 195,
   "metadata": {},
   "outputs": [],
   "source": [
    "data = data[['salary',\n",
    " 'to_messages',\n",
    " 'deferral_payments',\n",
    " 'total_payments',\n",
    " 'exercised_stock_options',\n",
    " 'bonus',\n",
    " 'restricted_stock',\n",
    " 'shared_receipt_with_poi',\n",
    " 'restricted_stock_deferred',\n",
    " 'total_stock_value',\n",
    " 'expenses',\n",
    " 'loan_advances',\n",
    " 'from_messages',\n",
    " 'other',\n",
    " 'from_this_person_to_poi',\n",
    " 'director_fees',\n",
    " 'deferred_income',\n",
    " 'long_term_incentive',\n",
    " 'from_poi_to_this_person',\n",
    "            'poi']]\n",
    "\n",
    "\n"
   ]
  },
  {
   "cell_type": "code",
   "execution_count": 231,
   "metadata": {},
   "outputs": [],
   "source": [
    "# data['poi']"
   ]
  },
  {
   "cell_type": "markdown",
   "metadata": {},
   "source": [
    "Now our neron data is stored in 146X19 matrix where columns are different feartures\n"
   ]
  },
  {
   "cell_type": "code",
   "execution_count": 230,
   "metadata": {},
   "outputs": [],
   "source": [
    "d = data\n",
    "data['poi'].replace(['non_poi','poi'],['0','1'],inplace=True)\n",
    "\n",
    "# data['poi']"
   ]
  },
  {
   "cell_type": "code",
   "execution_count": 225,
   "metadata": {},
   "outputs": [
    {
     "data": {
      "text/plain": [
       "array(['0', '0', '0', '0', '0', '0', '0', '1', '0', '0', '0', '0', '0',\n",
       "       '0', '0', '1', '0', '0', '0', '0', '1', '0', '1', '0', '0', '0',\n",
       "       '1', '0', '0', '0', '0', '1', '0', '0', '0', '0', '0', '0', '0',\n",
       "       '0', '0', '0', '0', '1', '0', '0', '0', '0', '0', '0', '0', '0',\n",
       "       '0', '0', '1', '0', '0', '0', '0', '1', '0', '0', '0', '0', '0',\n",
       "       '1', '0', '0', '0', '0', '0', '0', '0', '0', '0', '0', '1', '1',\n",
       "       '0', '1', '0', '0', '0', '0', '0', '0', '0', '0', '0', '0', '0',\n",
       "       '0', '0', '0', '0', '0', '0', '0', '0', '0', '0', '0', '0', '0',\n",
       "       '0', '0', '0', '0', '0', '0', '0', '0', '1', '1', '0', '0', '0',\n",
       "       '0', '0', '1', '0', '0', '1', '0', '0', '0', '0', '0', '0', '0',\n",
       "       '0', '0', '0', '0', '0', '0', '0', '0', '0', '0', '0', '0', '0',\n",
       "       '0', '1', '0'], dtype=object)"
      ]
     },
     "execution_count": 225,
     "metadata": {},
     "output_type": "execute_result"
    }
   ],
   "source": [
    "X = data.ix[:,0:18].values\n",
    "y = data.ix[:,19].values\n",
    "\n",
    "y\n"
   ]
  },
  {
   "cell_type": "markdown",
   "metadata": {},
   "source": [
    "### 1. Standardize the dataset"
   ]
  },
  {
   "cell_type": "code",
   "execution_count": 205,
   "metadata": {},
   "outputs": [
    {
     "data": {
      "text/plain": [
       "array([[-0.0746153 ,  0.75723808,  0.88982089, ..., -0.16370137,\n",
       "        -1.13847635, -0.08925145],\n",
       "       [-0.16657959, -0.55048066, -0.09510396, ..., -0.16370137,\n",
       "         0.16149683, -0.16484433],\n",
       "       [-0.16636238, -0.29542594, -0.1606183 , ..., -0.16370137,\n",
       "         0.15934332, -0.16484433],\n",
       "       ..., \n",
       "       [-0.16657959, -0.55048066, -0.1606183 , ..., -0.16370137,\n",
       "         0.16149683, -0.16484433],\n",
       "       [-0.09444758, -0.55048066, -0.1606183 , ..., -0.16370137,\n",
       "         0.16149683, -0.16484433],\n",
       "       [-0.16657959, -0.55048066, -0.1606183 , ..., -0.16370137,\n",
       "         0.16149683, -0.16484433]])"
      ]
     },
     "execution_count": 205,
     "metadata": {},
     "output_type": "execute_result"
    }
   ],
   "source": [
    "from sklearn.preprocessing import StandardScaler\n",
    "X_std = StandardScaler().fit_transform(X)\n",
    "X_std"
   ]
  },
  {
   "cell_type": "markdown",
   "metadata": {},
   "source": [
    "### 2.  Eigendecomposition - Computing Eigenvectors and Eigenvalues\n",
    "The eigenvectors and eigenvalues of a covariance (or correlation) matrix represent the \"core\" of a PCA: The eigenvectors (principal components) determine the directions of the new feature space, and the eigenvalues determine their magnitude(strength/variance). In other words, the eigenvalues explain the variance of the data along the new feature axes."
   ]
  },
  {
   "cell_type": "markdown",
   "metadata": {},
   "source": [
    "### Computing Covariance matrix"
   ]
  },
  {
   "cell_type": "markdown",
   "metadata": {},
   "source": [
    "The classic approach to PCA is to perform the eigendecomposition on the covariance matrix $\\Sigma$, which is a $d \\times d$ matrix where each element represents the covariance between two features. The covariance between two features is calculated as follows:\n",
    "\n",
    "$\\sigma_{jk} = \\frac{1}{n-1}\\sum_{i=1}^{N}\\left(  x_{ij}-\\bar{x}_j \\right)  \\left( x_{ik}-\\bar{x}_k \\right).$\n",
    "\n",
    "We can summarize the calculation of the covariance matrix via the following matrix equation:   \n",
    "$\\Sigma = \\frac{1}{n-1} \\left( (\\mathbf{X} - \\mathbf{\\bar{x}})^T\\;(\\mathbf{X} - \\mathbf{\\bar{x}}) \\right)$  \n",
    "where $\\mathbf{\\bar{x}}$ is the mean vector \n",
    "$\\mathbf{\\bar{x}} = \\sum\\limits_{i=1}^n x_{i}.$  \n",
    "The mean vector is a $d$-dimensional vector where each value in this vector represents the sample mean of a feature column in the dataset."
   ]
  },
  {
   "cell_type": "code",
   "execution_count": 206,
   "metadata": {},
   "outputs": [
    {
     "name": "stdout",
     "output_type": "stream",
     "text": [
      "Covariance matrix \n",
      "[[ 1.00689655 -0.0101416   0.97072024  0.96297289  0.99339207  1.0001615\n",
      "   0.99469657 -0.00795807 -0.44810419  0.99631058  1.00084227  0.74119451\n",
      "  -0.00777369  0.96992263 -0.00693036  0.96107722 -0.97774868  0.99700124]\n",
      " [-0.0101416   1.00689655 -0.00974101  0.02155821 -0.02917952  0.03388485\n",
      "  -0.01538007  0.88814568 -0.00450933 -0.02485281 -0.02002066  0.04854859\n",
      "   0.51232334 -0.01122529  0.61016347 -0.08854795  0.01318378 -0.01235538]\n",
      " [ 0.97072024 -0.00974101  1.00689655  0.92831447  0.95822666  0.96471628\n",
      "   0.95658655  0.00599967 -0.43341001  0.96012431  0.96276964  0.69523696\n",
      "  -0.0119291   0.95335021 -0.02390082  0.92820155 -0.97489647  0.96028491]\n",
      " [ 0.96297289  0.02155821  0.92831447  1.00689655  0.97174248  0.96868162\n",
      "   0.97205591  0.0323742  -0.38087714  0.97488831  0.95184309  0.90187318\n",
      "  -0.01662681  0.98960326 -0.00372937  0.91658346 -0.92948304  0.96702612]\n",
      " [ 0.99339207 -0.02917952  0.95822666  0.97174248  1.00689655  0.99015618\n",
      "   0.99295556 -0.02970453 -0.43565691  1.00568206  0.98693324  0.78074644\n",
      "  -0.02467444  0.97363296 -0.024611    0.95004016 -0.97024412  0.98816324]\n",
      " [ 1.0001615   0.03388485  0.96471628  0.96868162  0.99015618  1.00689655\n",
      "   0.99022913  0.04784583 -0.44355835  0.99281655  0.9938081   0.75756731\n",
      "   0.00609698  0.965646    0.04308428  0.95378127 -0.97570009  0.99384137]\n",
      " [ 0.99469657 -0.01538007  0.95658655  0.97205591  0.99295556  0.99022913\n",
      "   1.00689655 -0.01941626 -0.45937559  0.99990874  0.98788095  0.78273505\n",
      "  -0.01614859  0.97837468 -0.01404203  0.94686785 -0.96346409  0.9862827 ]\n",
      " [-0.00795807  0.88814568  0.00599967  0.0323742  -0.02970453  0.04784583\n",
      "  -0.01941626  1.00689655  0.00523827 -0.02634958 -0.02347016  0.05800812\n",
      "   0.30481446  0.0038092   0.52922612 -0.1033422  -0.00809437 -0.00562308]\n",
      " [-0.44810419 -0.00450933 -0.43341001 -0.38087714 -0.43565691 -0.44355835\n",
      "  -0.45937559  0.00523827  1.00689655 -0.44324226 -0.44669632 -0.31958105\n",
      "  -0.0109746  -0.42368159 -0.00871032 -0.3456478   0.43928246 -0.44232147]\n",
      " [ 0.99631058 -0.02485281  0.96012431  0.97488831  1.00568206  0.99281655\n",
      "   0.99990874 -0.02634958 -0.44324226  1.00689655  0.98966397  0.78459106\n",
      "  -0.02235749  0.97802891 -0.02139481  0.95137849 -0.97060472  0.99024412]\n",
      " [ 1.00084227 -0.02002066  0.96276964  0.95184309  0.98693324  0.9938081\n",
      "   0.98788095 -0.02347016 -0.44669632  0.98966397  1.00689655  0.72479867\n",
      "  -0.00431005  0.95809155 -0.01130277  0.96294327 -0.96994756  0.98881989]\n",
      " [ 0.74119451  0.04854859  0.69523696  0.90187318  0.78074644  0.75756731\n",
      "   0.78273505  0.05800812 -0.31958105  0.78459106  0.72479867  1.00689655\n",
      "  -0.02855486  0.84857265 -0.02505644  0.68976272 -0.70088501  0.75722664]\n",
      " [-0.00777369  0.51232334 -0.0119291  -0.01662681 -0.02467444  0.00609698\n",
      "  -0.01614859  0.30481446 -0.0109746  -0.02235749 -0.00431005 -0.02855486\n",
      "   1.00689655 -0.03659239  0.61419455 -0.04097273  0.01627517 -0.01101763]\n",
      " [ 0.96992263 -0.01122529  0.95335021  0.98960326  0.97363296  0.965646\n",
      "   0.97837468  0.0038092  -0.42368159  0.97802891  0.95809155  0.84857265\n",
      "  -0.03659239  1.00689655 -0.03963755  0.91918297 -0.94829973  0.97283212]\n",
      " [-0.00693036  0.61016347 -0.02390082 -0.00372937 -0.024611    0.04308428\n",
      "  -0.01404203  0.52922612 -0.00871032 -0.02139481 -0.01130277 -0.02505644\n",
      "   0.61419455 -0.03963755  1.00689655 -0.05056982  0.02342269  0.00147198]\n",
      " [ 0.96107722 -0.08854795  0.92820155  0.91658346  0.95004016  0.95378127\n",
      "   0.94686785 -0.1033422  -0.3456478   0.95137849  0.96294327  0.68976272\n",
      "  -0.04097273  0.91918297 -0.05056982  1.00689655 -0.93529596  0.95106569]\n",
      " [-0.97774868  0.01318378 -0.97489647 -0.92948304 -0.97024412 -0.97570009\n",
      "  -0.96346409 -0.00809437  0.43928246 -0.97060472 -0.96994756 -0.70088501\n",
      "   0.01627517 -0.94829973  0.02342269 -0.93529596  1.00689655 -0.97291415]\n",
      " [ 0.99700124 -0.01235538  0.96028491  0.96702612  0.98816324  0.99384137\n",
      "   0.9862827  -0.00562308 -0.44232147  0.99024412  0.98881989  0.75722664\n",
      "  -0.01101763  0.97283212  0.00147198  0.95106569 -0.97291415  1.00689655]]\n"
     ]
    }
   ],
   "source": [
    "mean_vec = np.mean(X_std, axis=0)\n",
    "cov_mat = (X_std - mean_vec).T.dot((X_std - mean_vec)) / (X_std.shape[0]-1)\n",
    "print('Covariance matrix \\n%s' %cov_mat)\n"
   ]
  },
  {
   "cell_type": "code",
   "execution_count": 50,
   "metadata": {},
   "outputs": [],
   "source": [
    "# print('NumPy covariance matrix: \\n%s' %np.cov(X_std.T))"
   ]
  },
  {
   "cell_type": "markdown",
   "metadata": {},
   "source": [
    "### Eigen Decomposition on Covariance Matirx"
   ]
  },
  {
   "cell_type": "code",
   "execution_count": 207,
   "metadata": {},
   "outputs": [
    {
     "name": "stdout",
     "output_type": "stream",
     "text": [
      "Eigenvectors \n",
      "[[ -2.81727847e-01   4.27899049e-03   2.05487415e-02  -2.43188626e-02\n",
      "   -1.23974792e-01  -2.42790124e-02   4.90823519e-02   8.54209060e-02\n",
      "   -1.40168242e-01  -1.04874499e-01  -1.46973981e-01   1.68754295e-01\n",
      "   -1.05631414e-01  -1.10550420e-02   1.39048736e-01   8.79751638e-01\n",
      "    8.37254335e-02   4.02443975e-02]\n",
      " [  4.00561822e-03   5.56739435e-01  -2.56125501e-01   1.59659007e-01\n",
      "   -3.23606457e-02  -2.51491503e-01   5.90185150e-01  -4.18204118e-01\n",
      "   -2.32453153e-02   5.83834408e-02  -7.55833485e-02   1.93919258e-02\n",
      "    3.86636078e-03   3.88701951e-03   3.45195490e-02  -1.28835444e-02\n",
      "   -1.47969916e-05   7.08204956e-06]\n",
      " [ -2.73880172e-01   2.76459099e-03   9.22445081e-03  -1.34221181e-02\n",
      "   -1.91924015e-01  -8.87496295e-02  -3.48909589e-01  -5.31972626e-01\n",
      "    3.59687805e-01  -3.16155624e-01   2.28678448e-01   3.43137234e-01\n",
      "    1.78208997e-01   1.22003360e-01  -1.43970533e-01  -1.84610133e-02\n",
      "    7.53739933e-02   5.01312946e-02]\n",
      " [ -2.77424455e-01   1.89713330e-02  -1.08967959e-01  -5.56281254e-02\n",
      "    2.43539053e-01   5.53082796e-02  -2.34991980e-02   1.08324833e-02\n",
      "    2.02065784e-02  -8.39944638e-02  -1.19705950e-01   1.33732023e-01\n",
      "    5.90354807e-02   7.45830108e-02   1.33086956e-01  -2.51359331e-02\n",
      "   -7.31320145e-01  -4.92716307e-01]\n",
      " [ -2.81374708e-01  -9.03174081e-03   7.86180878e-04  -3.41459258e-02\n",
      "   -2.81705721e-02   1.19037359e-03   6.31128525e-02   2.49646122e-02\n",
      "   -2.91637411e-01   1.59790342e-01   4.28673389e-01  -8.31081197e-02\n",
      "    4.55649761e-01  -2.87623680e-01   5.14697905e-02   1.05762079e-02\n",
      "   -3.14121288e-01   4.70264016e-01]\n",
      " [ -2.81140192e-01   3.48809835e-02  -5.18904107e-03  -1.64754028e-02\n",
      "   -1.06335205e-01   3.29531705e-02   7.48540809e-03   1.57966398e-01\n",
      "   -9.97580790e-02   5.25529882e-02  -1.07646790e-01   3.26102013e-01\n",
      "   -2.25329464e-02   2.64976736e-01   7.01906586e-01  -3.47829018e-01\n",
      "    2.12293964e-01   1.48161347e-01]\n",
      " [ -2.81382727e-01  -9.39202702e-04   1.36434976e-02  -8.40816064e-03\n",
      "   -1.50041356e-02   4.07541259e-03   9.54281406e-02   3.08456132e-02\n",
      "   -2.63961097e-01  -1.76405894e-01   2.62992497e-01  -2.11865647e-01\n",
      "   -4.92849889e-01   5.58262258e-01  -2.77938219e-01  -8.39767148e-02\n",
      "   -1.33805667e-01   1.96611941e-01]\n",
      " [  2.42117508e-03   5.08886742e-01  -4.57926982e-01   2.82140244e-01\n",
      "   -1.34140738e-01  -7.84876227e-02  -4.55201411e-01   4.42926530e-01\n",
      "    4.87024284e-02  -6.52138873e-02   9.72573441e-02  -5.54607431e-02\n",
      "    1.45793728e-02  -1.40174665e-02  -6.57593054e-02   1.69929798e-02\n",
      "   -3.81631162e-04  -1.95134627e-05]\n",
      " [  1.30940700e-01  -1.22088608e-02  -5.14797713e-01  -8.33232875e-01\n",
      "   -9.41557172e-02  -1.75488609e-02  -3.46467710e-02  -4.38373154e-02\n",
      "   -8.89650477e-02   1.09224855e-03  -3.20333939e-03   1.48005805e-02\n",
      "   -2.57724980e-02   7.61640142e-03  -1.38163827e-02   4.56015963e-04\n",
      "    3.72642941e-02   2.58678668e-02]\n",
      " [ -2.82155013e-01  -6.50574513e-03   3.48748414e-03  -2.69894088e-02\n",
      "   -2.20151432e-02   2.89820203e-03   7.26292713e-02   2.58694856e-02\n",
      "   -2.88254346e-01   5.92022819e-02   3.86919143e-01  -1.27852495e-01\n",
      "    1.80876764e-01  -3.63404900e-02  -4.34454462e-02  -3.45227455e-02\n",
      "    4.42566925e-01  -6.53864144e-01]\n",
      " [ -2.79831284e-01  -1.14527275e-03   3.80578751e-02  -3.21674158e-02\n",
      "   -1.44840246e-01  -3.43223781e-02   1.19695803e-01   1.62837886e-01\n",
      "   -1.18367044e-01  -1.45647630e-01  -1.30064087e-01   3.88561857e-01\n",
      "   -3.69924998e-01  -5.88966624e-01  -3.07840421e-01  -2.72623203e-01\n",
      "    1.45364525e-02   7.89978475e-03]\n",
      " [ -2.25793861e-01   2.46050295e-02  -2.14499485e-01   7.63092694e-03\n",
      "    8.16413378e-01   1.40509128e-01  -3.14293958e-03   1.61446259e-02\n",
      "    1.60547732e-01   1.74636908e-01   3.83664789e-02   1.83071057e-01\n",
      "   -3.30761442e-02   3.76090450e-03  -1.41901766e-01   5.33982026e-02\n",
      "    2.63224708e-01   1.76510042e-01]\n",
      " [  5.84278311e-03   4.24462146e-01   5.62973332e-01  -3.69867837e-01\n",
      "    2.33649698e-01  -5.15001753e-01  -1.63209240e-01   1.36338973e-01\n",
      "    7.86167405e-04  -1.46786761e-02   1.42524576e-02  -1.45309774e-02\n",
      "    1.01022228e-02   1.15734083e-02   1.06040549e-02  -5.76126144e-03\n",
      "    1.05214055e-05  -1.57189094e-06]\n",
      " [ -2.78585279e-01  -2.84933287e-03  -6.75441763e-02  -1.21038904e-02\n",
      "    1.40313574e-01   2.13535686e-03  -1.58271985e-01  -2.30389649e-01\n",
      "    4.26224583e-02  -3.74529266e-01  -1.99915705e-01  -6.33710884e-01\n",
      "   -1.42201612e-01  -3.26181086e-01   3.02878641e-01  -6.76436989e-02\n",
      "    9.34790808e-02   6.73946286e-02]\n",
      " [  5.22218924e-03   4.96394951e-01   2.78646296e-01  -1.83419551e-01\n",
      "   -8.34705071e-02   7.90885718e-01  -1.65826293e-02  -7.88639820e-02\n",
      "    2.66511233e-02   7.44571579e-03   1.28035958e-02  -1.49098071e-02\n",
      "   -1.83180462e-02  -2.96425192e-02  -2.51278170e-02   1.78504085e-02\n",
      "    8.21849903e-05  -1.64328701e-06]\n",
      " [ -2.69747326e-01  -4.44283304e-02   1.59997453e-02  -1.48391553e-01\n",
      "   -1.82482488e-01  -1.18659766e-02   3.92976654e-01   3.79564548e-01\n",
      "    7.15685811e-01   2.25231079e-02   1.15938590e-01  -1.98607383e-01\n",
      "    6.25841507e-02   2.99348177e-02  -2.25110190e-02   9.53881800e-03\n",
      "    5.52273844e-03   2.16308893e-03]\n",
      " [  2.75627912e-01  -1.94730436e-03  -9.69788364e-03   8.56887268e-03\n",
      "    1.97683173e-01   7.56517200e-02   2.81818767e-01   2.33314295e-01\n",
      "   -1.01104958e-01  -7.86389206e-01   1.20225906e-01   1.41216518e-01\n",
      "    2.71233281e-01   3.81493188e-02   3.74477114e-02  -1.70920863e-02\n",
      "    5.96810432e-02   4.35093067e-02]\n",
      " [ -2.80703041e-01   5.52586043e-03   1.11935019e-02  -2.73568702e-02\n",
      "   -8.14368233e-02   1.14033401e-02  -1.03843559e-03   7.88960302e-02\n",
      "   -1.65014572e-01  -1.55200324e-02  -6.29090607e-01  -1.08791165e-01\n",
      "    4.82579607e-01   2.37885028e-01  -3.90857552e-01  -1.13063164e-01\n",
      "    1.08403442e-01   7.40010493e-02]]\n",
      "\n",
      "Eigenvalues \n",
      "[  1.25065398e+01   2.76609358e+00   8.55343078e-01   8.07023937e-01\n",
      "   4.76414026e-01   3.63793312e-01   1.05195410e-01   6.96314934e-02\n",
      "   5.84882120e-02   3.43483380e-02   2.55300915e-02   2.13565967e-02\n",
      "   1.51091809e-02   1.05967319e-02   5.93826120e-03   2.69555447e-03\n",
      "   4.03353656e-05   2.87553841e-08]\n"
     ]
    }
   ],
   "source": [
    "cov_mat = np.cov(X_std.T)\n",
    "\n",
    "eig_vals, eig_vecs = np.linalg.eig(cov_mat)\n",
    "\n",
    "print('Eigenvectors \\n%s' %eig_vecs)\n",
    "print('\\nEigenvalues \\n%s' %eig_vals)"
   ]
  },
  {
   "cell_type": "code",
   "execution_count": 208,
   "metadata": {},
   "outputs": [],
   "source": [
    "# Calculating using correlation matrix also\n",
    "cor_mat1 = np.corrcoef(X_std.T)\n",
    "\n",
    "eig_vals, eig_vecs = np.linalg.eig(cor_mat1)\n",
    "\n",
    "# print('Eigenvectors \\n%s' %eig_vecs)\n",
    "# print('\\nEigenvalues \\n%s' %eig_vals)"
   ]
  },
  {
   "cell_type": "markdown",
   "metadata": {},
   "source": [
    "### Singular Vector Decomposition\n",
    "\n",
    "While the eigendecomposition of the covariance or correlation matrix may be more intuitiuve, most PCA implementations perform a Singular Vector Decomposition (SVD) to improve the computational efficiency. So, let us perform an SVD to confirm that the result are indeed the same:"
   ]
  },
  {
   "cell_type": "code",
   "execution_count": 209,
   "metadata": {},
   "outputs": [],
   "source": [
    "u,s,v = np.linalg.svd(X_std.T)\n",
    "# print('Vectors U:\\n', u)"
   ]
  },
  {
   "cell_type": "code",
   "execution_count": 210,
   "metadata": {},
   "outputs": [
    {
     "name": "stdout",
     "output_type": "stream",
     "text": [
      "Everything ok!\n"
     ]
    }
   ],
   "source": [
    "for ev in eig_vecs:\n",
    "    np.testing.assert_array_almost_equal(1.0, np.linalg.norm(ev))\n",
    "print('Everything ok!')"
   ]
  },
  {
   "cell_type": "markdown",
   "metadata": {},
   "source": [
    "### Selecting principal components\n"
   ]
  },
  {
   "cell_type": "code",
   "execution_count": 211,
   "metadata": {},
   "outputs": [
    {
     "name": "stdout",
     "output_type": "stream",
     "text": [
      "Eigenvalues in descending order:\n",
      "12.4208785313\n",
      "2.74714773576\n",
      "0.849484563622\n",
      "0.801496375659\n",
      "0.473150915869\n",
      "0.361301577042\n",
      "0.104474893282\n",
      "0.0691545653281\n",
      "0.0580876078237\n",
      "0.0341130753709\n",
      "0.0253552278529\n",
      "0.0212103186283\n",
      "0.0150056933347\n",
      "0.0105241515674\n",
      "0.00589758817591\n",
      "0.00267709177053\n",
      "4.00590959682e-05\n",
      "2.85584294859e-08\n"
     ]
    }
   ],
   "source": [
    "# Make a list of (eigenvalue, eigenvector) tuples\n",
    "eig_pairs = [(np.abs(eig_vals[i]), eig_vecs[:,i]) for i in range(len(eig_vals))]\n",
    "\n",
    "# Sort the (eigenvalue, eigenvector) tuples from high to low\n",
    "eig_pairs.sort(key=lambda x: x[0], reverse=True)\n",
    "\n",
    "# Visually confirm that the list is correctly sorted by decreasing eigenvalues\n",
    "print('Eigenvalues in descending order:')\n",
    "for i in eig_pairs:\n",
    "    print(i[0])"
   ]
  },
  {
   "cell_type": "code",
   "execution_count": 212,
   "metadata": {
    "collapsed": true
   },
   "outputs": [],
   "source": [
    "tot = sum(eig_vals)\n",
    "var_exp = [(i / tot)*100 for i in sorted(eig_vals, reverse=True)]\n",
    "cum_var_exp = np.cumsum(var_exp)"
   ]
  },
  {
   "cell_type": "code",
   "execution_count": 213,
   "metadata": {},
   "outputs": [
    {
     "data": {
      "image/png": "[encoded data removed]",
      "text/plain": [
       "<matplotlib.figure.Figure at 0x115580650>"
      ]
     },
     "metadata": {},
     "output_type": "display_data"
    }
   ],
   "source": [
    "with plt.style.context('seaborn-whitegrid'):\n",
    "    plt.figure(figsize=(6, 4))\n",
    "\n",
    "    plt.bar(range(18), var_exp, alpha=1, align='center',\n",
    "            label='individual explained variance')\n",
    "    plt.step(range(18), cum_var_exp, where='mid',\n",
    "             label='cumulative explained variance')\n",
    "    plt.ylabel(' variance ratio', fontweight = 'bold')\n",
    "    plt.xlabel('Principal components',fontweight = 'bold')\n",
    "    plt.legend(loc='best')\n",
    "    plt.tight_layout()\n",
    "    plt.savefig('/Users/seemamishra/Desktop/pca2.pdf')"
   ]
  },
  {
   "cell_type": "code",
   "execution_count": 214,
   "metadata": {},
   "outputs": [
    {
     "name": "stdout",
     "output_type": "stream",
     "text": [
      "('Matrix W:\\n', array([[-0.28172785,  0.00427899],\n",
      "       [ 0.00400562,  0.55673943],\n",
      "       [-0.27388017,  0.00276459],\n",
      "       [-0.27742446,  0.01897133],\n",
      "       [-0.28137471, -0.00903174],\n",
      "       [-0.28114019,  0.03488098],\n",
      "       [-0.28138273, -0.0009392 ],\n",
      "       [ 0.00242118,  0.50888674],\n",
      "       [ 0.1309407 , -0.01220886],\n",
      "       [-0.28215501, -0.00650575],\n",
      "       [-0.27983128, -0.00114527],\n",
      "       [-0.22579386,  0.02460503],\n",
      "       [ 0.00584278,  0.42446215],\n",
      "       [-0.27858528, -0.00284933],\n",
      "       [ 0.00522219,  0.49639495],\n",
      "       [-0.26974733, -0.04442833],\n",
      "       [ 0.27562791, -0.0019473 ],\n",
      "       [-0.28070304,  0.00552586]]))\n"
     ]
    }
   ],
   "source": [
    "matrix_w = np.hstack((eig_pairs[0][1].reshape(18,1), \n",
    "                      eig_pairs[1][1].reshape(18,1)))\n",
    "\n",
    "print('Matrix W:\\n', matrix_w)"
   ]
  },
  {
   "cell_type": "code",
   "execution_count": 112,
   "metadata": {},
   "outputs": [],
   "source": [
    "Y = X_std.dot(matrix_w)\n",
    "# Y"
   ]
  },
  {
   "cell_type": "code",
   "execution_count": 216,
   "metadata": {},
   "outputs": [
    {
     "data": {
      "image/png": "[encoded data removed]",
      "text/plain": [
       "<matplotlib.figure.Figure at 0x116f25250>"
      ]
     },
     "metadata": {},
     "output_type": "display_data"
    }
   ],
   "source": [
    "with plt.style.context('seaborn-whitegrid'):\n",
    "    plt.figure(figsize=(6, 4))\n",
    "    for lab, col in zip(('non_poi', 'poi'), \n",
    "                        ('blue', 'red')):\n",
    "        plt.scatter(Y[y==lab, 0],\n",
    "                    Y[y==lab, 1],\n",
    "                    label=lab,\n",
    "                    c=col)\n",
    "    plt.xlabel('Principal Component 1',fontweight = 'bold' )\n",
    "    plt.ylabel('Principal Component 2',fontweight = 'bold')\n",
    "    plt.legend(loc='lower center')\n",
    "    plt.tight_layout()"
   ]
  },
  {
   "cell_type": "code",
   "execution_count": null,
   "metadata": {
    "collapsed": true
   },
   "outputs": [],
   "source": []
  }
 ],
 "metadata": {
  "kernelspec": {
   "display_name": "Python [Root]",
   "language": "python",
   "name": "Python [Root]"
  },
  "language_info": {
   "codemirror_mode": {
    "name": "ipython",
    "version": 2
   },
   "file_extension": ".py",
   "mimetype": "text/x-python",
   "name": "python",
   "nbconvert_exporter": "python",
   "pygments_lexer": "ipython2",
   "version": "2.7.13"
  }
 },
 "nbformat": 4,
 "nbformat_minor": 2
}
