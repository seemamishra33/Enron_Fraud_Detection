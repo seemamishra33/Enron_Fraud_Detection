{
 "cells": [
  {
   "cell_type": "markdown",
   "metadata": {},
   "source": [
    "# Identifying Fraud from Enron Email\n",
    "\n",
    "## Yong Yu\n",
    "\n",
    "This is a report on the process of builing estimators for Fraud Detection using machine learning.\n",
    "\n",
    "A more compact and summarized report can be found [here](http://yyforyongyu.s3-website-us-east-1.amazonaws.com/projects/enron_fraud_summary.html) or this [notebook documentation](https://github.com/yyforyongyu/fraud-detection-enron/blob/master/main/documentation.ipynb).\n",
    "\n",
    "---"
   ]
  },
  {
   "cell_type": "markdown",
   "metadata": {},
   "source": [
    "## Overview\n",
    "In this report, there are series of investigations performed to make a robust, strong final estimator to predict a person-of-interest(poi). These include,\n",
    "- an overview of the dataset.\n",
    "- outlier cleaning.\n",
    "- a performance comparison among different feature scaling methods, including MinMaxScaler, StandardScaler, and Normalizer.\n",
    "- creating three features, \"stock_salary_ratio\", \"poi_from_ratio\", \"poi_to_ratio\", and evaluating them.\n",
    "- a performance comparison between two different feature selection methods, SelectKBest and ExtraTreesClassifier.\n",
    "- a performance comparison between including PCA and excluding PCA.\n",
    "- a performance comparison between different classifiers, LinearSVC and KNeighborsClassifier.\n",
    "- tuning algorithms using F1 score as evaluation metric.\n",
    "- cross-validation on the final estimator.\n",
    "\n",
    "Several helper functions are built for this project in poi_helper.py. Since this report only focuses on methodology in machine learning, we will not cover them here. For more details, report \n",
    "[poi_id.ipynb](https://github.com/yyforyongyu/fraud-detection-enron/blob/master/main/poi_id.ipynb)\n",
    "has all the thoughts and steps in building these functions."
   ]
  },
  {
   "cell_type": "markdown",
   "metadata": {},
   "source": [
    "## Methodology\n",
    "When finding a best combination out of groups of factors, there are usually two ways to think about it. One way would be simply find the best solution from each group, then chain all the solutions together to make the final combination. The assumption is that the best of each independent thing can be grouped to be the best of a new thing. In reality, this is rarely true since the best from one group might have a negtive effect on the best from another group. If we are to apply this method into the analysis, in short, we would need to first, find the best feature selection method, then find the best calssifier, lastly combine the feature selection and classifier to make the final estimator. However, from the report [poi_id.ipynb](https://github.com/yyforyongyu/fraud-detection-enron/blob/master/main/poi_id.ipynb),\n",
    "using a SelectKBest + LinearSVC could have an accuracy score of 0.94, same when using RandomizedLogisticRegression + KNeighbors, although the runtimes were different. However, when applying RandomizedLogisticRegression + LinearSVC, or SelectKBest + KNeighbors, accuracy scores became lower. This clearly indicates that, for each classifier algorithm, there is a best fit feature selection method. Simply chaining a best classifier and a feature selection seperately won't produce the best result. It becomes rather clear when all the algorithms were applied on both outlier-cleaned and full datasets. The best estimator for one dataset won't work on a different dataset.\n",
    "\n",
    "So machine learning is really about finding a specific, nearly unique solution to a question, which brings me to think about the second way, exhaustively trying out combinations of all factors, rather than finding a best answer by groups. This assumes that a simple change in one unit can make a total difference. Unfortunately, this method also creates a problem, large time consumptions.\n",
    "\n",
    "For this analysis, the dataset will be tested with or without PCA, with four feature scaling methods(including not using one), with two feature selection methods, and two classifiers, considering only 20 values to be tuned on each classifier, 20 values to be tuned on each feature selection, and 10 values to be tuned on PCA, a rough total number of combinations is,\n",
    "$$ 2*4*2*2*20*20*10 = 128,000$$\n",
    "And it is not likely we will conduct all the possibilies here at once, we will have to make a tradeoff.\n",
    "\n",
    "For this analysis, the parameters of feature selection methods won't be tuned untill one best feature selection method is found, then the cross validation will be tuned, which brings the possible combination down dramstically before we start to tune on feature selection and cross validation."
   ]
  },
  {
   "cell_type": "markdown",
   "metadata": {},
   "source": [
    "# Summary of Dataset\n",
    "A summary of findings,\n",
    "- there are 146 data points with 21 features, and a total of 3066 obervations.\n",
    "- there are 18 people who is an point of interest.\n",
    "- 1,358 data points are missing.\n",
    "- the top 3 features with most missing values are \"loan_advances\", \"director_fees\", and \"restricted_stock_deferred\"."
   ]
  },
  {
   "cell_type": "code",
   "execution_count": 1,
   "metadata": {
    "collapsed": false
   },
   "outputs": [],
   "source": [
    "#!/usr/bin/python\n",
    "\n",
    "import sys\n",
    "import pickle\n",
    "from tester import dump_classifier_and_data, test_classifier\n",
    "sys.path.append(\"../tools/\")\n",
    "from poi_helper import *\n",
    "\n",
    "### Load the dictionary containing the dataset\n",
    "data_dict = pickle.load(open(\"final_project_dataset.pkl\", \"r\") )"
   ]
  },
  {
   "cell_type": "code",
   "execution_count": 2,
   "metadata": {
    "collapsed": false
   },
   "outputs": [
    {
     "data": {
      "text/plain": [
       "146"
      ]
     },
     "execution_count": 2,
     "metadata": {},
     "output_type": "execute_result"
    }
   ],
   "source": [
    "# number of data points\n",
    "len(data_dict.keys())"
   ]
  },
  {
   "cell_type": "code",
   "execution_count": 3,
   "metadata": {
    "collapsed": false
   },
   "outputs": [
    {
     "data": {
      "text/plain": [
       "21"
      ]
     },
     "execution_count": 3,
     "metadata": {},
     "output_type": "execute_result"
    }
   ],
   "source": [
    "# number of features available\n",
    "len(data_dict['METTS MARK'])"
   ]
  },
  {
   "cell_type": "code",
   "execution_count": 4,
   "metadata": {
    "collapsed": false,
    "scrolled": true
   },
   "outputs": [
    {
     "data": {
      "text/plain": [
       "['salary',\n",
       " 'to_messages',\n",
       " 'deferral_payments',\n",
       " 'total_payments',\n",
       " 'exercised_stock_options',\n",
       " 'bonus',\n",
       " 'restricted_stock',\n",
       " 'shared_receipt_with_poi',\n",
       " 'restricted_stock_deferred',\n",
       " 'total_stock_value',\n",
       " 'expenses',\n",
       " 'loan_advances',\n",
       " 'from_messages',\n",
       " 'other',\n",
       " 'from_this_person_to_poi',\n",
       " 'poi',\n",
       " 'director_fees',\n",
       " 'deferred_income',\n",
       " 'long_term_incentive',\n",
       " 'email_address',\n",
       " 'from_poi_to_this_person']"
      ]
     },
     "execution_count": 4,
     "metadata": {},
     "output_type": "execute_result"
    }
   ],
   "source": [
    "# available features\n",
    "data_dict[\"METTS MARK\"].keys()"
   ]
  },
  {
   "cell_type": "code",
   "execution_count": 5,
   "metadata": {
    "collapsed": false,
    "scrolled": false
   },
   "outputs": [
    {
     "name": "stdout",
     "output_type": "stream",
     "text": [
      "HANNON KEVIN P\n",
      "COLWELL WESLEY\n",
      "RIEKER PAULA H\n",
      "KOPPER MICHAEL J\n",
      "SHELBY REX\n",
      "DELAINEY DAVID W\n",
      "LAY KENNETH L\n",
      "BOWEN JR RAYMOND M\n",
      "BELDEN TIMOTHY N\n",
      "FASTOW ANDREW S\n",
      "CALGER CHRISTOPHER F\n",
      "RICE KENNETH D\n",
      "SKILLING JEFFREY K\n",
      "YEAGER F SCOTT\n",
      "HIRKO JOSEPH\n",
      "KOENIG MARK E\n",
      "CAUSEY RICHARD A\n",
      "GLISAN JR BEN F\n"
     ]
    },
    {
     "data": {
      "text/plain": [
       "18"
      ]
     },
     "execution_count": 5,
     "metadata": {},
     "output_type": "execute_result"
    }
   ],
   "source": [
    "# people of interest\n",
    "count = 0\n",
    "for key, item in data_dict.iteritems():\n",
    "    if item[\"poi\"]:\n",
    "        print key\n",
    "        count += 1\n",
    "count"
   ]
  },
  {
   "cell_type": "code",
   "execution_count": 6,
   "metadata": {
    "collapsed": true
   },
   "outputs": [],
   "source": [
    "# create a dictionary for all missing values\n",
    "missing = {}\n",
    "for key, item in data_dict.iteritems():\n",
    "    for elem, value in item.iteritems():\n",
    "        if value == \"NaN\":\n",
    "            if elem not in missing:\n",
    "                missing[elem] = 1\n",
    "            else:\n",
    "                missing[elem] += 1"
   ]
  },
  {
   "cell_type": "code",
   "execution_count": 7,
   "metadata": {
    "collapsed": false
   },
   "outputs": [
    {
     "data": {
      "text/plain": [
       "1358"
      ]
     },
     "execution_count": 7,
     "metadata": {},
     "output_type": "execute_result"
    }
   ],
   "source": [
    "# number of missing values\n",
    "number_of_missing = 0\n",
    "for key, item in missing.iteritems():\n",
    "    number_of_missing += item\n",
    "number_of_missing"
   ]
  },
  {
   "cell_type": "code",
   "execution_count": 8,
   "metadata": {
    "collapsed": false,
    "scrolled": true
   },
   "outputs": [
    {
     "data": {
      "text/plain": [
       "{'bonus': 64,\n",
       " 'deferral_payments': 107,\n",
       " 'deferred_income': 97,\n",
       " 'director_fees': 129,\n",
       " 'email_address': 35,\n",
       " 'exercised_stock_options': 44,\n",
       " 'expenses': 51,\n",
       " 'from_messages': 60,\n",
       " 'from_poi_to_this_person': 60,\n",
       " 'from_this_person_to_poi': 60,\n",
       " 'loan_advances': 142,\n",
       " 'long_term_incentive': 80,\n",
       " 'other': 53,\n",
       " 'restricted_stock': 36,\n",
       " 'restricted_stock_deferred': 128,\n",
       " 'salary': 51,\n",
       " 'shared_receipt_with_poi': 60,\n",
       " 'to_messages': 60,\n",
       " 'total_payments': 21,\n",
       " 'total_stock_value': 20}"
      ]
     },
     "execution_count": 8,
     "metadata": {},
     "output_type": "execute_result"
    }
   ],
   "source": [
    "missing"
   ]
  },
  {
   "cell_type": "markdown",
   "metadata": {},
   "source": [
    "# Outlier Investigation"
   ]
  },
  {
   "cell_type": "markdown",
   "metadata": {},
   "source": [
    "As we already known in mini projects, there is an outlier named \"TOTAL\" in this dataset. We will need to remove it before any further analysis."
   ]
  },
  {
   "cell_type": "code",
   "execution_count": 9,
   "metadata": {
    "collapsed": false,
    "scrolled": true
   },
   "outputs": [
    {
     "data": {
      "text/plain": [
       "{'bonus': 97343619,\n",
       " 'deferral_payments': 32083396,\n",
       " 'deferred_income': -27992891,\n",
       " 'director_fees': 1398517,\n",
       " 'email_address': 'NaN',\n",
       " 'exercised_stock_options': 311764000,\n",
       " 'expenses': 5235198,\n",
       " 'from_messages': 'NaN',\n",
       " 'from_poi_to_this_person': 'NaN',\n",
       " 'from_this_person_to_poi': 'NaN',\n",
       " 'loan_advances': 83925000,\n",
       " 'long_term_incentive': 48521928,\n",
       " 'other': 42667589,\n",
       " 'poi': False,\n",
       " 'restricted_stock': 130322299,\n",
       " 'restricted_stock_deferred': -7576788,\n",
       " 'salary': 26704229,\n",
       " 'shared_receipt_with_poi': 'NaN',\n",
       " 'to_messages': 'NaN',\n",
       " 'total_payments': 309886585,\n",
       " 'total_stock_value': 434509511}"
      ]
     },
     "execution_count": 9,
     "metadata": {},
     "output_type": "execute_result"
    }
   ],
   "source": [
    "# remove the outlier 'TOTAL'\n",
    "data_dict.pop(\"TOTAL\")"
   ]
  },
  {
   "cell_type": "markdown",
   "metadata": {},
   "source": [
    "## Plots of the Outliers\n",
    "\n",
    "To understand the outliers in this dataset, plots are created by using salary against every other feature but poi, which is used to color data points in each plot. As a starting point, all the available features will be selected and put into the model. Later in this report, some features will be removed based on their feature selection score."
   ]
  },
  {
   "cell_type": "code",
   "execution_count": 10,
   "metadata": {
    "collapsed": true
   },
   "outputs": [],
   "source": [
    "# create features for plots\n",
    "# features_list is a list of strings, each of which is a feature name.\n",
    "# The first feature must be \"poi\".\n",
    "features_list = ['poi',\n",
    "                 'salary',\n",
    "                 'to_messages',\n",
    "                 'deferral_payments',\n",
    "                 'total_payments',\n",
    "                 'exercised_stock_options',\n",
    "                 'bonus',\n",
    "                 'restricted_stock',\n",
    "                 'shared_receipt_with_poi',\n",
    "                 'restricted_stock_deferred',\n",
    "                 'total_stock_value',\n",
    "                 'expenses',\n",
    "                 'loan_advances',\n",
    "                 'from_messages',\n",
    "                 'other',\n",
    "                 'from_this_person_to_poi',\n",
    "                 'director_fees',\n",
    "                 'deferred_income',\n",
    "                 'long_term_incentive',\n",
    "                 'from_poi_to_this_person']\n",
    "\n",
    "# format the dataset\n",
    "data = featureFormat(data_dict, features_list)\n",
    "\n",
    "# create a pandas dataframe\n",
    "df = pd.DataFrame(data, columns = features_list)"
   ]
  },
  {
   "cell_type": "markdown",
   "metadata": {},
   "source": [
    "In the following plots, blue color stands for poi, red color stands for non-poi."
   ]
  },
  {
   "cell_type": "code",
   "execution_count": 11,
   "metadata": {
    "collapsed": false,
    "scrolled": true
   },
   "outputs": [
    {
     "data": {
      "image/png": "[encoded data removed]",
      "text/plain": [
       "<matplotlib.figure.Figure at 0x10cbe2f50>"
      ]
     },
     "metadata": {},
     "output_type": "display_data"
    },
    {
     "name": "stdout",
     "output_type": "stream",
     "text": [
      "<ggplot: (281797349)>\n"
     ]
    },
    {
     "data": {
      "image/png": "[encoded data removed]",
      "text/plain": [
       "<matplotlib.figure.Figure at 0x10af6d290>"
      ]
     },
     "metadata": {},
     "output_type": "display_data"
    },
    {
     "name": "stdout",
     "output_type": "stream",
     "text": [
      "<ggplot: (279932309)>\n"
     ]
    },
    {
     "data": {
      "image/png": "[encoded data removed]",
      "text/plain": [
       "<matplotlib.figure.Figure at 0x10a65e450>"
      ]
     },
     "metadata": {},
     "output_type": "display_data"
    },
    {
     "name": "stdout",
     "output_type": "stream",
     "text": [
      "<ggplot: (279909173)>\n"
     ]
    },
    {
     "data": {
      "image/png": "[encoded data removed]",
      "text/plain": [
       "<matplotlib.figure.Figure at 0x10aeae810>"
      ]
     },
     "metadata": {},
     "output_type": "display_data"
    },
    {
     "name": "stdout",
     "output_type": "stream",
     "text": [
      "<ggplot: (279885321)>\n"
     ]
    },
    {
     "data": {
      "image/png": "[encoded data removed]",
      "text/plain": [
       "<matplotlib.figure.Figure at 0x10b33f910>"
      ]
     },
     "metadata": {},
     "output_type": "display_data"
    },
    {
     "name": "stdout",
     "output_type": "stream",
     "text": [
      "<ggplot: (279883357)>\n"
     ]
    },
    {
     "data": {
      "image/png": "[encoded data removed]",
      "text/plain": [
       "<matplotlib.figure.Figure at 0x103863710>"
      ]
     },
     "metadata": {},
     "output_type": "display_data"
    },
    {
     "name": "stdout",
     "output_type": "stream",
     "text": [
      "<ggplot: (272131021)>\n"
     ]
    },
    {
     "data": {
      "image/png": "[encoded data removed]",
      "text/plain": [
       "<matplotlib.figure.Figure at 0x10a874c90>"
      ]
     },
     "metadata": {},
     "output_type": "display_data"
    },
    {
     "name": "stdout",
     "output_type": "stream",
     "text": [
      "<ggplot: (279475321)>\n"
     ]
    },
    {
     "data": {
      "image/png": "[encoded data removed]",
      "text/plain": [
       "<matplotlib.figure.Figure at 0x10aea1e50>"
      ]
     },
     "metadata": {},
     "output_type": "display_data"
    },
    {
     "name": "stdout",
     "output_type": "stream",
     "text": [
      "<ggplot: (279880041)>\n"
     ]
    },
    {
     "data": {
      "image/png": "[encoded data removed]",
      "text/plain": [
       "<matplotlib.figure.Figure at 0x10aec30d0>"
      ]
     },
     "metadata": {},
     "output_type": "display_data"
    },
    {
     "name": "stdout",
     "output_type": "stream",
     "text": [
      "<ggplot: (279798533)>\n"
     ]
    },
    {
     "data": {
      "image/png": "[encoded data removed]",
      "text/plain": [
       "<matplotlib.figure.Figure at 0x102a08450>"
      ]
     },
     "metadata": {},
     "output_type": "display_data"
    },
    {
     "name": "stdout",
     "output_type": "stream",
     "text": [
      "<ggplot: (271190081)>\n"
     ]
    },
    {
     "data": {
      "image/png": "[encoded data removed]",
      "text/plain": [
       "<matplotlib.figure.Figure at 0x10b32ab50>"
      ]
     },
     "metadata": {},
     "output_type": "display_data"
    },
    {
     "name": "stdout",
     "output_type": "stream",
     "text": [
      "<ggplot: (279991457)>\n"
     ]
    },
    {
     "data": {
      "image/png": "[encoded data removed]",
      "text/plain": [
       "<matplotlib.figure.Figure at 0x10a230fd0>"
      ]
     },
     "metadata": {},
     "output_type": "display_data"
    },
    {
     "name": "stdout",
     "output_type": "stream",
     "text": [
      "<ggplot: (271190197)>\n"
     ]
    },
    {
     "data": {
      "image/png": "[encoded data removed]",
      "text/plain": [
       "<matplotlib.figure.Figure at 0x10aea2250>"
      ]
     },
     "metadata": {},
     "output_type": "display_data"
    },
    {
     "name": "stdout",
     "output_type": "stream",
     "text": [
      "<ggplot: (279880333)>\n"
     ]
    },
    {
     "data": {
      "image/png": "[encoded data removed]",
      "text/plain": [
       "<matplotlib.figure.Figure at 0x10aa52cd0>"
      ]
     },
     "metadata": {},
     "output_type": "display_data"
    },
    {
     "name": "stdout",
     "output_type": "stream",
     "text": [
      "<ggplot: (279473377)>\n"
     ]
    },
    {
     "data": {
      "image/png": "[encoded data removed]",
      "text/plain": [
       "<matplotlib.figure.Figure at 0x10a878250>"
      ]
     },
     "metadata": {},
     "output_type": "display_data"
    },
    {
     "name": "stdout",
     "output_type": "stream",
     "text": [
      "<ggplot: (279476245)>\n"
     ]
    },
    {
     "data": {
      "image/png": "[encoded data removed]",
      "text/plain": [
       "<matplotlib.figure.Figure at 0x10ad49410>"
      ]
     },
     "metadata": {},
     "output_type": "display_data"
    },
    {
     "name": "stdout",
     "output_type": "stream",
     "text": [
      "<ggplot: (279482105)>\n"
     ]
    },
    {
     "data": {
      "image/png": "[encoded data removed]",
      "text/plain": [
       "<matplotlib.figure.Figure at 0x10b1ae090>"
      ]
     },
     "metadata": {},
     "output_type": "display_data"
    },
    {
     "name": "stdout",
     "output_type": "stream",
     "text": [
      "<ggplot: (279827517)>\n"
     ]
    },
    {
     "data": {
      "image/png": "[encoded data removed]",
      "text/plain": [
       "<matplotlib.figure.Figure at 0x10b29ecd0>"
      ]
     },
     "metadata": {},
     "output_type": "display_data"
    },
    {
     "name": "stdout",
     "output_type": "stream",
     "text": [
      "<ggplot: (280141353)>\n"
     ]
    }
   ],
   "source": [
    "%matplotlib inline\n",
    "from ggplot import *\n",
    "\n",
    "# iter through all features\n",
    "# x axis will always be salary\n",
    "# poi is represented by colors of points\n",
    "# the rest of features are put in y axis\n",
    "for feature in features_list:\n",
    "    if feature != \"poi\" and feature != \"salary\":\n",
    "        print ggplot(aes(x = 'salary', y = feature, color = 'poi'),\n",
    "               data = df) +\\\n",
    "        geom_point() +\\\n",
    "        ggtitle(\"salary against \" + feature)"
   ]
  },
  {
   "cell_type": "markdown",
   "metadata": {},
   "source": [
    "## Outlier Removal\n",
    "\n",
    "The purpose of removing outliers is to prevent the model being misrepresented by extreme cases, which comes with an assumption that either the extreme cases rarely happen, or they don't carry engough valuable infomration to be kept in the model. This can be true for some of the features, but could be controversy for \"total_payment\" feature, and shouldn't be applied to \"exercised_stock_options\" as the top four outliers are all person of interest. On the other hand, if we are to treat top 10% of each feature as outliers, it is not hard to imagine that the final dataset will have much less than 90%. A large deduction in the original dataset will cause the model becoming weaker.\n",
    "\n",
    "Given all these thoughts, we will start the cleaning experiment using a simple method. By fitting in a linear regression model, we will calculate the variance between the predicted values and true values, then treat features whoes predictions have top 10% variance as outliers. Based on that, we can then decide what to do with the outliers.\n"
   ]
  },
  {
   "cell_type": "code",
   "execution_count": 12,
   "metadata": {
    "collapsed": false
   },
   "outputs": [
    {
     "data": {
      "text/plain": [
       "0.35600464626660311"
      ]
     },
     "execution_count": 12,
     "metadata": {},
     "output_type": "execute_result"
    }
   ],
   "source": [
    "### check on the score before outlier cleaning\n",
    "features, labels = featureLabelSplit(data_dict, features_list)\n",
    "buildRegression(features, labels)[1]"
   ]
  },
  {
   "cell_type": "code",
   "execution_count": 13,
   "metadata": {
    "collapsed": false
   },
   "outputs": [],
   "source": [
    "### clean the outliers\n",
    "### extract normal data points and outliers\n",
    "cleaned_data, outliers = outlierCleaner(features, labels)"
   ]
  },
  {
   "cell_type": "code",
   "execution_count": 14,
   "metadata": {
    "collapsed": false
   },
   "outputs": [
    {
     "data": {
      "text/plain": [
       "0.82103305215836841"
      ]
     },
     "execution_count": 14,
     "metadata": {},
     "output_type": "execute_result"
    }
   ],
   "source": [
    "### extract labels and features from cleaned_data\n",
    "cleaned_labels, cleaned_features = targetFeatureSplit(cleaned_data)\n",
    "\n",
    "# fit the model again and check the score\n",
    "buildRegression(cleaned_features, cleaned_labels)[1]"
   ]
  },
  {
   "cell_type": "markdown",
   "metadata": {},
   "source": [
    "A removal of the outliers improved the score of the linear model dramastically from 0.35 to 0.82. Although it's good to see improvement in score, it's always necessary to take a look at the removed outliers."
   ]
  },
  {
   "cell_type": "markdown",
   "metadata": {},
   "source": [
    "## Check on Outliers"
   ]
  },
  {
   "cell_type": "code",
   "execution_count": 15,
   "metadata": {
    "collapsed": false
   },
   "outputs": [],
   "source": [
    "### change the data format from numpy array to python dictionary\n",
    "outliers_dataset = personMapping(featureReformat(outliers, features_list), data_dict, features_list)"
   ]
  },
  {
   "cell_type": "code",
   "execution_count": 16,
   "metadata": {
    "collapsed": false
   },
   "outputs": [
    {
     "data": {
      "text/plain": [
       "14"
      ]
     },
     "execution_count": 16,
     "metadata": {},
     "output_type": "execute_result"
    }
   ],
   "source": [
    "### number of outliers\n",
    "len(outliers_dataset)"
   ]
  },
  {
   "cell_type": "code",
   "execution_count": 17,
   "metadata": {
    "collapsed": false
   },
   "outputs": [
    {
     "name": "stdout",
     "output_type": "stream",
     "text": [
      "LAVORATO JOHN J\n"
     ]
    }
   ],
   "source": [
    "### name of outliers who is not a poi\n",
    "for key, item in outliers_dataset.iteritems():\n",
    "    if item['poi'] == 0.0:\n",
    "        print key"
   ]
  },
  {
   "cell_type": "markdown",
   "metadata": {},
   "source": [
    "## Strategy on Outlier Removal\n",
    "\n",
    "As mentioned above, simply removing the outliers might cause an issue for later on analysis. While the imporvement in score of the linear model is surely tempting, do note that, this is not the model that we will use to conduct machine learning in this dataset. \n",
    "\n",
    "On the other hand, there's no surprising that most of the person of interest(13 out 18) are flagged as outliers given the background knowledge of Enron Fraud. In this case, the outliers are the targets we want to find, according to <a href='https://discussions.udacity.com/t/outlier-removal/7446' target='_blank'>this post in discussion forum</a>, we can manually decided to include or exclude the outliers or not in the training set. This strategy will be applied when processing the dataset.\n",
    "\n",
    "Given the though above, when fitting in datasets later, there are 5% outliers cleaned on the training set."
   ]
  },
  {
   "cell_type": "markdown",
   "metadata": {
    "collapsed": true
   },
   "source": [
    "# Preprocessing Features"
   ]
  },
  {
   "cell_type": "markdown",
   "metadata": {},
   "source": [
    "## Feature Creation\n",
    "To dig out more patterns from the dataset, three new features, \"stock_salary_ratio\", \"poi_from_ratio\", \"poi_to_ratio\", are created as following.\n",
    "\n",
    "- stock_salary_ratio: stock_salary_ratio takes the result from total_stock_value divided by salary. This feature is useful based on the assumption that a person of interest usually has a unusual large stock value since it's under the table, while salary information could be more easily known by public, thus the ratio could give information to identify the poi. The bigger the ratio, the more likely it is a poi.\n",
    "- poi_from_ratio: poi_from_ratio takes result from from_poi_to_this_person divided by from_messages. This feature assumes that if a person is a poi, he/she tends to have more contacts with another poi, therefore the ratio would be bigger. And same applie to feature poi_to_ratio."
   ]
  },
  {
   "cell_type": "code",
   "execution_count": 18,
   "metadata": {
    "collapsed": false
   },
   "outputs": [],
   "source": [
    "### add new features to dataset\n",
    "for key, item in data_dict.iteritems():\n",
    "    ### add stock_salary_ratio\n",
    "    if item['salary'] != \"NaN\" and item['total_stock_value'] != \"NaN\":\n",
    "        item['stock_salary_ratio'] = float(item['total_stock_value']) / item['salary']\n",
    "    else:\n",
    "        item['stock_salary_ratio'] = \"NaN\"\n",
    "    \n",
    "    ### add poi_from_ratio\n",
    "    if item['from_messages'] != \"NaN\" and item['from_poi_to_this_person'] != \"NaN\":\n",
    "        item['poi_from_ratio'] = float(item['from_poi_to_this_person']) / item['from_messages']\n",
    "    else:\n",
    "        item['poi_from_ratio'] = \"NaN\"\n",
    "        \n",
    "    ### add poi_to_ratio\n",
    "    if item[\"to_messages\"] != \"NaN\" and item[\"from_this_person_to_poi\"] != \"NaN\":\n",
    "        item[\"poi_to_ratio\"] = float(item[\"from_this_person_to_poi\"]) / item[\"to_messages\"]\n",
    "    else:\n",
    "        item[\"poi_to_ratio\"] = \"NaN\""
   ]
  },
  {
   "cell_type": "code",
   "execution_count": 19,
   "metadata": {
    "collapsed": true
   },
   "outputs": [],
   "source": [
    "### update features list\n",
    "new_features_list = features_list + [\"stock_salary_ratio\", \"poi_from_ratio\", \"poi_to_ratio\"]"
   ]
  },
  {
   "cell_type": "markdown",
   "metadata": {},
   "source": [
    "## Feature Scaling\n",
    "\n",
    "Depending on the algorithms chosen, feature scaling may be necessary. In this report, three feature scaling methods are compared, including MinMaxScaler, StandardScaler, and Normalizer."
   ]
  },
  {
   "cell_type": "code",
   "execution_count": 20,
   "metadata": {
    "collapsed": true
   },
   "outputs": [],
   "source": [
    "from sklearn.preprocessing import MinMaxScaler, StandardScaler, Normalizer"
   ]
  },
  {
   "cell_type": "code",
   "execution_count": 21,
   "metadata": {
    "collapsed": false,
    "scrolled": true
   },
   "outputs": [
    {
     "data": {
      "text/html": [
       "<div>\n",
       "<table border=\"1\" class=\"dataframe\">\n",
       "  <thead>\n",
       "    <tr style=\"text-align: right;\">\n",
       "      <th></th>\n",
       "      <th>feature</th>\n",
       "      <th>mean</th>\n",
       "      <th>std</th>\n",
       "    </tr>\n",
       "  </thead>\n",
       "  <tbody>\n",
       "    <tr>\n",
       "      <th>3</th>\n",
       "      <td>total_payments</td>\n",
       "      <td>2259057.1250</td>\n",
       "      <td>8846594.3829</td>\n",
       "    </tr>\n",
       "    <tr>\n",
       "      <th>11</th>\n",
       "      <td>loan_advances</td>\n",
       "      <td>582812.5000</td>\n",
       "      <td>6794471.7789</td>\n",
       "    </tr>\n",
       "    <tr>\n",
       "      <th>9</th>\n",
       "      <td>total_stock_value</td>\n",
       "      <td>2909785.6111</td>\n",
       "      <td>6189018.0750</td>\n",
       "    </tr>\n",
       "    <tr>\n",
       "      <th>4</th>\n",
       "      <td>exercised_stock_options</td>\n",
       "      <td>2075801.9792</td>\n",
       "      <td>4795513.1452</td>\n",
       "    </tr>\n",
       "    <tr>\n",
       "      <th>6</th>\n",
       "      <td>restricted_stock</td>\n",
       "      <td>868536.2917</td>\n",
       "      <td>2016572.3887</td>\n",
       "    </tr>\n",
       "    <tr>\n",
       "      <th>8</th>\n",
       "      <td>restricted_stock_deferred</td>\n",
       "      <td>73417.9028</td>\n",
       "      <td>1301983.3904</td>\n",
       "    </tr>\n",
       "    <tr>\n",
       "      <th>5</th>\n",
       "      <td>bonus</td>\n",
       "      <td>675997.3542</td>\n",
       "      <td>1233155.2559</td>\n",
       "    </tr>\n",
       "    <tr>\n",
       "      <th>13</th>\n",
       "      <td>other</td>\n",
       "      <td>297260.0903</td>\n",
       "      <td>1131068.1310</td>\n",
       "    </tr>\n",
       "    <tr>\n",
       "      <th>2</th>\n",
       "      <td>deferral_payments</td>\n",
       "      <td>222089.5556</td>\n",
       "      <td>754101.3026</td>\n",
       "    </tr>\n",
       "    <tr>\n",
       "      <th>17</th>\n",
       "      <td>long_term_incentive</td>\n",
       "      <td>336957.8333</td>\n",
       "      <td>687182.5677</td>\n",
       "    </tr>\n",
       "    <tr>\n",
       "      <th>16</th>\n",
       "      <td>deferred_income</td>\n",
       "      <td>-193683.2708</td>\n",
       "      <td>606011.1351</td>\n",
       "    </tr>\n",
       "    <tr>\n",
       "      <th>0</th>\n",
       "      <td>salary</td>\n",
       "      <td>185446.0347</td>\n",
       "      <td>197042.1238</td>\n",
       "    </tr>\n",
       "    <tr>\n",
       "      <th>10</th>\n",
       "      <td>expenses</td>\n",
       "      <td>35375.3403</td>\n",
       "      <td>45309.3030</td>\n",
       "    </tr>\n",
       "    <tr>\n",
       "      <th>15</th>\n",
       "      <td>director_fees</td>\n",
       "      <td>9980.3194</td>\n",
       "      <td>31300.5751</td>\n",
       "    </tr>\n",
       "    <tr>\n",
       "      <th>1</th>\n",
       "      <td>to_messages</td>\n",
       "      <td>1238.5556</td>\n",
       "      <td>2237.5648</td>\n",
       "    </tr>\n",
       "    <tr>\n",
       "      <th>12</th>\n",
       "      <td>from_messages</td>\n",
       "      <td>363.5833</td>\n",
       "      <td>1450.6752</td>\n",
       "    </tr>\n",
       "    <tr>\n",
       "      <th>7</th>\n",
       "      <td>shared_receipt_with_poi</td>\n",
       "      <td>702.6111</td>\n",
       "      <td>1077.2907</td>\n",
       "    </tr>\n",
       "    <tr>\n",
       "      <th>14</th>\n",
       "      <td>from_this_person_to_poi</td>\n",
       "      <td>24.6250</td>\n",
       "      <td>79.7783</td>\n",
       "    </tr>\n",
       "    <tr>\n",
       "      <th>18</th>\n",
       "      <td>from_poi_to_this_person</td>\n",
       "      <td>38.7569</td>\n",
       "      <td>74.2768</td>\n",
       "    </tr>\n",
       "  </tbody>\n",
       "</table>\n",
       "</div>"
      ],
      "text/plain": [
       "                      feature          mean           std\n",
       "3              total_payments  2259057.1250  8846594.3829\n",
       "11              loan_advances   582812.5000  6794471.7789\n",
       "9           total_stock_value  2909785.6111  6189018.0750\n",
       "4     exercised_stock_options  2075801.9792  4795513.1452\n",
       "6            restricted_stock   868536.2917  2016572.3887\n",
       "8   restricted_stock_deferred    73417.9028  1301983.3904\n",
       "5                       bonus   675997.3542  1233155.2559\n",
       "13                      other   297260.0903  1131068.1310\n",
       "2           deferral_payments   222089.5556   754101.3026\n",
       "17        long_term_incentive   336957.8333   687182.5677\n",
       "16            deferred_income  -193683.2708   606011.1351\n",
       "0                      salary   185446.0347   197042.1238\n",
       "10                   expenses    35375.3403    45309.3030\n",
       "15              director_fees     9980.3194    31300.5751\n",
       "1                 to_messages     1238.5556     2237.5648\n",
       "12              from_messages      363.5833     1450.6752\n",
       "7     shared_receipt_with_poi      702.6111     1077.2907\n",
       "14    from_this_person_to_poi       24.6250       79.7783\n",
       "18    from_poi_to_this_person       38.7569       74.2768"
      ]
     },
     "execution_count": 21,
     "metadata": {},
     "output_type": "execute_result"
    }
   ],
   "source": [
    "stdMeanReader(features, features_list)"
   ]
  },
  {
   "cell_type": "code",
   "execution_count": 22,
   "metadata": {
    "collapsed": false,
    "scrolled": true
   },
   "outputs": [
    {
     "data": {
      "text/html": [
       "<div>\n",
       "<table border=\"1\" class=\"dataframe\">\n",
       "  <thead>\n",
       "    <tr style=\"text-align: right;\">\n",
       "      <th></th>\n",
       "      <th>feature</th>\n",
       "      <th>mean</th>\n",
       "      <th>std</th>\n",
       "    </tr>\n",
       "  </thead>\n",
       "  <tbody>\n",
       "    <tr>\n",
       "      <th>15</th>\n",
       "      <td>director_fees</td>\n",
       "      <td>0.0724</td>\n",
       "      <td>0.2270</td>\n",
       "    </tr>\n",
       "    <tr>\n",
       "      <th>10</th>\n",
       "      <td>expenses</td>\n",
       "      <td>0.1546</td>\n",
       "      <td>0.1981</td>\n",
       "    </tr>\n",
       "    <tr>\n",
       "      <th>7</th>\n",
       "      <td>shared_receipt_with_poi</td>\n",
       "      <td>0.1273</td>\n",
       "      <td>0.1951</td>\n",
       "    </tr>\n",
       "    <tr>\n",
       "      <th>0</th>\n",
       "      <td>salary</td>\n",
       "      <td>0.1669</td>\n",
       "      <td>0.1773</td>\n",
       "    </tr>\n",
       "    <tr>\n",
       "      <th>16</th>\n",
       "      <td>deferred_income</td>\n",
       "      <td>0.9447</td>\n",
       "      <td>0.1729</td>\n",
       "    </tr>\n",
       "    <tr>\n",
       "      <th>5</th>\n",
       "      <td>bonus</td>\n",
       "      <td>0.0845</td>\n",
       "      <td>0.1541</td>\n",
       "    </tr>\n",
       "    <tr>\n",
       "      <th>1</th>\n",
       "      <td>to_messages</td>\n",
       "      <td>0.0818</td>\n",
       "      <td>0.1477</td>\n",
       "    </tr>\n",
       "    <tr>\n",
       "      <th>18</th>\n",
       "      <td>from_poi_to_this_person</td>\n",
       "      <td>0.0734</td>\n",
       "      <td>0.1407</td>\n",
       "    </tr>\n",
       "    <tr>\n",
       "      <th>4</th>\n",
       "      <td>exercised_stock_options</td>\n",
       "      <td>0.0604</td>\n",
       "      <td>0.1396</td>\n",
       "    </tr>\n",
       "    <tr>\n",
       "      <th>17</th>\n",
       "      <td>long_term_incentive</td>\n",
       "      <td>0.0655</td>\n",
       "      <td>0.1336</td>\n",
       "    </tr>\n",
       "    <tr>\n",
       "      <th>14</th>\n",
       "      <td>from_this_person_to_poi</td>\n",
       "      <td>0.0404</td>\n",
       "      <td>0.1310</td>\n",
       "    </tr>\n",
       "    <tr>\n",
       "      <th>9</th>\n",
       "      <td>total_stock_value</td>\n",
       "      <td>0.0601</td>\n",
       "      <td>0.1259</td>\n",
       "    </tr>\n",
       "    <tr>\n",
       "      <th>6</th>\n",
       "      <td>restricted_stock</td>\n",
       "      <td>0.2000</td>\n",
       "      <td>0.1161</td>\n",
       "    </tr>\n",
       "    <tr>\n",
       "      <th>2</th>\n",
       "      <td>deferral_payments</td>\n",
       "      <td>0.0497</td>\n",
       "      <td>0.1155</td>\n",
       "    </tr>\n",
       "    <tr>\n",
       "      <th>13</th>\n",
       "      <td>other</td>\n",
       "      <td>0.0287</td>\n",
       "      <td>0.1092</td>\n",
       "    </tr>\n",
       "    <tr>\n",
       "      <th>12</th>\n",
       "      <td>from_messages</td>\n",
       "      <td>0.0253</td>\n",
       "      <td>0.1010</td>\n",
       "    </tr>\n",
       "    <tr>\n",
       "      <th>3</th>\n",
       "      <td>total_payments</td>\n",
       "      <td>0.0218</td>\n",
       "      <td>0.0854</td>\n",
       "    </tr>\n",
       "    <tr>\n",
       "      <th>11</th>\n",
       "      <td>loan_advances</td>\n",
       "      <td>0.0071</td>\n",
       "      <td>0.0833</td>\n",
       "    </tr>\n",
       "    <tr>\n",
       "      <th>8</th>\n",
       "      <td>restricted_stock_deferred</td>\n",
       "      <td>0.1079</td>\n",
       "      <td>0.0755</td>\n",
       "    </tr>\n",
       "  </tbody>\n",
       "</table>\n",
       "</div>"
      ],
      "text/plain": [
       "                      feature    mean     std\n",
       "15              director_fees  0.0724  0.2270\n",
       "10                   expenses  0.1546  0.1981\n",
       "7     shared_receipt_with_poi  0.1273  0.1951\n",
       "0                      salary  0.1669  0.1773\n",
       "16            deferred_income  0.9447  0.1729\n",
       "5                       bonus  0.0845  0.1541\n",
       "1                 to_messages  0.0818  0.1477\n",
       "18    from_poi_to_this_person  0.0734  0.1407\n",
       "4     exercised_stock_options  0.0604  0.1396\n",
       "17        long_term_incentive  0.0655  0.1336\n",
       "14    from_this_person_to_poi  0.0404  0.1310\n",
       "9           total_stock_value  0.0601  0.1259\n",
       "6            restricted_stock  0.2000  0.1161\n",
       "2           deferral_payments  0.0497  0.1155\n",
       "13                      other  0.0287  0.1092\n",
       "12              from_messages  0.0253  0.1010\n",
       "3              total_payments  0.0218  0.0854\n",
       "11              loan_advances  0.0071  0.0833\n",
       "8   restricted_stock_deferred  0.1079  0.0755"
      ]
     },
     "execution_count": 22,
     "metadata": {},
     "output_type": "execute_result"
    }
   ],
   "source": [
    "### check results from MinMaxScaler\n",
    "stdMeanReader(features, features_list, MinMaxScaler())"
   ]
  },
  {
   "cell_type": "code",
   "execution_count": 23,
   "metadata": {
    "collapsed": false,
    "scrolled": true
   },
   "outputs": [
    {
     "data": {
      "text/html": [
       "<div>\n",
       "<table border=\"1\" class=\"dataframe\">\n",
       "  <thead>\n",
       "    <tr style=\"text-align: right;\">\n",
       "      <th></th>\n",
       "      <th>feature</th>\n",
       "      <th>mean</th>\n",
       "      <th>std</th>\n",
       "    </tr>\n",
       "  </thead>\n",
       "  <tbody>\n",
       "    <tr>\n",
       "      <th>0</th>\n",
       "      <td>salary</td>\n",
       "      <td>0</td>\n",
       "      <td>1.0035</td>\n",
       "    </tr>\n",
       "    <tr>\n",
       "      <th>10</th>\n",
       "      <td>expenses</td>\n",
       "      <td>-0</td>\n",
       "      <td>1.0035</td>\n",
       "    </tr>\n",
       "    <tr>\n",
       "      <th>17</th>\n",
       "      <td>long_term_incentive</td>\n",
       "      <td>0</td>\n",
       "      <td>1.0035</td>\n",
       "    </tr>\n",
       "    <tr>\n",
       "      <th>16</th>\n",
       "      <td>deferred_income</td>\n",
       "      <td>0</td>\n",
       "      <td>1.0035</td>\n",
       "    </tr>\n",
       "    <tr>\n",
       "      <th>15</th>\n",
       "      <td>director_fees</td>\n",
       "      <td>-0</td>\n",
       "      <td>1.0035</td>\n",
       "    </tr>\n",
       "    <tr>\n",
       "      <th>14</th>\n",
       "      <td>from_this_person_to_poi</td>\n",
       "      <td>0</td>\n",
       "      <td>1.0035</td>\n",
       "    </tr>\n",
       "    <tr>\n",
       "      <th>13</th>\n",
       "      <td>other</td>\n",
       "      <td>-0</td>\n",
       "      <td>1.0035</td>\n",
       "    </tr>\n",
       "    <tr>\n",
       "      <th>12</th>\n",
       "      <td>from_messages</td>\n",
       "      <td>-0</td>\n",
       "      <td>1.0035</td>\n",
       "    </tr>\n",
       "    <tr>\n",
       "      <th>11</th>\n",
       "      <td>loan_advances</td>\n",
       "      <td>-0</td>\n",
       "      <td>1.0035</td>\n",
       "    </tr>\n",
       "    <tr>\n",
       "      <th>9</th>\n",
       "      <td>total_stock_value</td>\n",
       "      <td>0</td>\n",
       "      <td>1.0035</td>\n",
       "    </tr>\n",
       "    <tr>\n",
       "      <th>1</th>\n",
       "      <td>to_messages</td>\n",
       "      <td>0</td>\n",
       "      <td>1.0035</td>\n",
       "    </tr>\n",
       "    <tr>\n",
       "      <th>8</th>\n",
       "      <td>restricted_stock_deferred</td>\n",
       "      <td>0</td>\n",
       "      <td>1.0035</td>\n",
       "    </tr>\n",
       "    <tr>\n",
       "      <th>7</th>\n",
       "      <td>shared_receipt_with_poi</td>\n",
       "      <td>-0</td>\n",
       "      <td>1.0035</td>\n",
       "    </tr>\n",
       "    <tr>\n",
       "      <th>6</th>\n",
       "      <td>restricted_stock</td>\n",
       "      <td>0</td>\n",
       "      <td>1.0035</td>\n",
       "    </tr>\n",
       "    <tr>\n",
       "      <th>5</th>\n",
       "      <td>bonus</td>\n",
       "      <td>0</td>\n",
       "      <td>1.0035</td>\n",
       "    </tr>\n",
       "    <tr>\n",
       "      <th>4</th>\n",
       "      <td>exercised_stock_options</td>\n",
       "      <td>0</td>\n",
       "      <td>1.0035</td>\n",
       "    </tr>\n",
       "    <tr>\n",
       "      <th>3</th>\n",
       "      <td>total_payments</td>\n",
       "      <td>-0</td>\n",
       "      <td>1.0035</td>\n",
       "    </tr>\n",
       "    <tr>\n",
       "      <th>2</th>\n",
       "      <td>deferral_payments</td>\n",
       "      <td>-0</td>\n",
       "      <td>1.0035</td>\n",
       "    </tr>\n",
       "    <tr>\n",
       "      <th>18</th>\n",
       "      <td>from_poi_to_this_person</td>\n",
       "      <td>-0</td>\n",
       "      <td>1.0035</td>\n",
       "    </tr>\n",
       "  </tbody>\n",
       "</table>\n",
       "</div>"
      ],
      "text/plain": [
       "                      feature  mean     std\n",
       "0                      salary     0  1.0035\n",
       "10                   expenses    -0  1.0035\n",
       "17        long_term_incentive     0  1.0035\n",
       "16            deferred_income     0  1.0035\n",
       "15              director_fees    -0  1.0035\n",
       "14    from_this_person_to_poi     0  1.0035\n",
       "13                      other    -0  1.0035\n",
       "12              from_messages    -0  1.0035\n",
       "11              loan_advances    -0  1.0035\n",
       "9           total_stock_value     0  1.0035\n",
       "1                 to_messages     0  1.0035\n",
       "8   restricted_stock_deferred     0  1.0035\n",
       "7     shared_receipt_with_poi    -0  1.0035\n",
       "6            restricted_stock     0  1.0035\n",
       "5                       bonus     0  1.0035\n",
       "4     exercised_stock_options     0  1.0035\n",
       "3              total_payments    -0  1.0035\n",
       "2           deferral_payments    -0  1.0035\n",
       "18    from_poi_to_this_person    -0  1.0035"
      ]
     },
     "execution_count": 23,
     "metadata": {},
     "output_type": "execute_result"
    }
   ],
   "source": [
    "### check results from StandardScaler\n",
    "stdMeanReader(features, features_list, StandardScaler())"
   ]
  },
  {
   "cell_type": "code",
   "execution_count": 24,
   "metadata": {
    "collapsed": false,
    "scrolled": true
   },
   "outputs": [
    {
     "data": {
      "text/html": [
       "<div>\n",
       "<table border=\"1\" class=\"dataframe\">\n",
       "  <thead>\n",
       "    <tr style=\"text-align: right;\">\n",
       "      <th></th>\n",
       "      <th>feature</th>\n",
       "      <th>mean</th>\n",
       "      <th>std</th>\n",
       "    </tr>\n",
       "  </thead>\n",
       "  <tbody>\n",
       "    <tr>\n",
       "      <th>3</th>\n",
       "      <td>total_payments</td>\n",
       "      <td>0.4200</td>\n",
       "      <td>0.3071</td>\n",
       "    </tr>\n",
       "    <tr>\n",
       "      <th>9</th>\n",
       "      <td>total_stock_value</td>\n",
       "      <td>0.4611</td>\n",
       "      <td>0.2800</td>\n",
       "    </tr>\n",
       "    <tr>\n",
       "      <th>4</th>\n",
       "      <td>exercised_stock_options</td>\n",
       "      <td>0.2979</td>\n",
       "      <td>0.2644</td>\n",
       "    </tr>\n",
       "    <tr>\n",
       "      <th>5</th>\n",
       "      <td>bonus</td>\n",
       "      <td>0.1587</td>\n",
       "      <td>0.1891</td>\n",
       "    </tr>\n",
       "    <tr>\n",
       "      <th>6</th>\n",
       "      <td>restricted_stock</td>\n",
       "      <td>0.1812</td>\n",
       "      <td>0.1890</td>\n",
       "    </tr>\n",
       "    <tr>\n",
       "      <th>15</th>\n",
       "      <td>director_fees</td>\n",
       "      <td>0.0520</td>\n",
       "      <td>0.1760</td>\n",
       "    </tr>\n",
       "    <tr>\n",
       "      <th>16</th>\n",
       "      <td>deferred_income</td>\n",
       "      <td>-0.0690</td>\n",
       "      <td>0.1638</td>\n",
       "    </tr>\n",
       "    <tr>\n",
       "      <th>2</th>\n",
       "      <td>deferral_payments</td>\n",
       "      <td>0.0466</td>\n",
       "      <td>0.1395</td>\n",
       "    </tr>\n",
       "    <tr>\n",
       "      <th>13</th>\n",
       "      <td>other</td>\n",
       "      <td>0.0506</td>\n",
       "      <td>0.1201</td>\n",
       "    </tr>\n",
       "    <tr>\n",
       "      <th>17</th>\n",
       "      <td>long_term_incentive</td>\n",
       "      <td>0.0693</td>\n",
       "      <td>0.1118</td>\n",
       "    </tr>\n",
       "    <tr>\n",
       "      <th>8</th>\n",
       "      <td>restricted_stock_deferred</td>\n",
       "      <td>-0.0091</td>\n",
       "      <td>0.0929</td>\n",
       "    </tr>\n",
       "    <tr>\n",
       "      <th>10</th>\n",
       "      <td>expenses</td>\n",
       "      <td>0.0280</td>\n",
       "      <td>0.0915</td>\n",
       "    </tr>\n",
       "    <tr>\n",
       "      <th>0</th>\n",
       "      <td>salary</td>\n",
       "      <td>0.0640</td>\n",
       "      <td>0.0866</td>\n",
       "    </tr>\n",
       "    <tr>\n",
       "      <th>11</th>\n",
       "      <td>loan_advances</td>\n",
       "      <td>0.0061</td>\n",
       "      <td>0.0510</td>\n",
       "    </tr>\n",
       "    <tr>\n",
       "      <th>1</th>\n",
       "      <td>to_messages</td>\n",
       "      <td>0.0008</td>\n",
       "      <td>0.0030</td>\n",
       "    </tr>\n",
       "    <tr>\n",
       "      <th>7</th>\n",
       "      <td>shared_receipt_with_poi</td>\n",
       "      <td>0.0003</td>\n",
       "      <td>0.0010</td>\n",
       "    </tr>\n",
       "    <tr>\n",
       "      <th>12</th>\n",
       "      <td>from_messages</td>\n",
       "      <td>0.0002</td>\n",
       "      <td>0.0008</td>\n",
       "    </tr>\n",
       "    <tr>\n",
       "      <th>14</th>\n",
       "      <td>from_this_person_to_poi</td>\n",
       "      <td>0.0000</td>\n",
       "      <td>0.0000</td>\n",
       "    </tr>\n",
       "    <tr>\n",
       "      <th>18</th>\n",
       "      <td>from_poi_to_this_person</td>\n",
       "      <td>0.0000</td>\n",
       "      <td>0.0000</td>\n",
       "    </tr>\n",
       "  </tbody>\n",
       "</table>\n",
       "</div>"
      ],
      "text/plain": [
       "                      feature    mean     std\n",
       "3              total_payments  0.4200  0.3071\n",
       "9           total_stock_value  0.4611  0.2800\n",
       "4     exercised_stock_options  0.2979  0.2644\n",
       "5                       bonus  0.1587  0.1891\n",
       "6            restricted_stock  0.1812  0.1890\n",
       "15              director_fees  0.0520  0.1760\n",
       "16            deferred_income -0.0690  0.1638\n",
       "2           deferral_payments  0.0466  0.1395\n",
       "13                      other  0.0506  0.1201\n",
       "17        long_term_incentive  0.0693  0.1118\n",
       "8   restricted_stock_deferred -0.0091  0.0929\n",
       "10                   expenses  0.0280  0.0915\n",
       "0                      salary  0.0640  0.0866\n",
       "11              loan_advances  0.0061  0.0510\n",
       "1                 to_messages  0.0008  0.0030\n",
       "7     shared_receipt_with_poi  0.0003  0.0010\n",
       "12              from_messages  0.0002  0.0008\n",
       "14    from_this_person_to_poi  0.0000  0.0000\n",
       "18    from_poi_to_this_person  0.0000  0.0000"
      ]
     },
     "execution_count": 24,
     "metadata": {},
     "output_type": "execute_result"
    }
   ],
   "source": [
    "### check results from Normalizer\n",
    "stdMeanReader(features, features_list, Normalizer())"
   ]
  },
  {
   "cell_type": "code",
   "execution_count": 25,
   "metadata": {
    "collapsed": true
   },
   "outputs": [],
   "source": [
    "### create scalers\n",
    "scalers = [('none', None),\n",
    "           ('standardscaler', StandardScaler()),\n",
    "           ('minmaxscaler', MinMaxScaler()),\n",
    "           ('normalier', Normalizer())]"
   ]
  },
  {
   "cell_type": "markdown",
   "metadata": {},
   "source": [
    "## Feature Selection\n",
    "\n",
    "To get a better processing before any fitting into models, two feature selection methods for classification listed in \n",
    "<a href='http://scikit-learn.org/stable/modules/feature_selection.html' target='_blank'>sklearn documentations</a> \n",
    "are explored, which are SelectKBest and ExtraTreesClassifier."
   ]
  },
  {
   "cell_type": "code",
   "execution_count": 26,
   "metadata": {
    "collapsed": true
   },
   "outputs": [],
   "source": [
    "from sklearn.feature_selection import SelectKBest\n",
    "from sklearn.ensemble import ExtraTreesClassifier\n",
    "\n",
    "feature_selections = [('k_best', SelectKBest(k = 'all')),\n",
    "                     ('extra_tree', ExtraTreesClassifier(class_weight='auto', random_state=42))]"
   ]
  },
  {
   "cell_type": "markdown",
   "metadata": {},
   "source": [
    "## PCA\n",
    "PCA is imported to conduct dimensions deduction. Depending on the performances, the decision to include PCA or not will be made later."
   ]
  },
  {
   "cell_type": "code",
   "execution_count": 27,
   "metadata": {
    "collapsed": false
   },
   "outputs": [],
   "source": [
    "from sklearn.decomposition import PCA\n",
    "pca = [('none', None),\n",
    "       ('pca', PCA())]"
   ]
  },
  {
   "cell_type": "markdown",
   "metadata": {},
   "source": [
    "# Pick and Prepare Classifiers\n",
    "\n",
    "According to \n",
    "<a href='http://scikit-learn.org/stable/tutorial/machine_learning_map/' target='_blank'>this cheat sheet in sklearn</a>, \n",
    "there are at least four classification methods can be used,\n",
    "- LinearSVC\n",
    "- KNeighbors Classifier\n",
    "- SVC\n",
    "- Ensemble Classifers\n",
    "\n",
    "In this report, we will check on LinearSVC and KNeighborsClassifier."
   ]
  },
  {
   "cell_type": "code",
   "execution_count": 28,
   "metadata": {
    "collapsed": false
   },
   "outputs": [],
   "source": [
    "from sklearn.svm import LinearSVC\n",
    "linear_svc = LinearSVC(class_weight='auto', penalty='l1', dual=False, random_state=42)\n",
    "\n",
    "params_svc = {'linear_svc__C':[0.01, 0.03, 0.1, 0.3, 1, 3, 10],\n",
    "              'linear_svc__tol': [1e-4, 1e-3, 1e-2, 1e-1, 1],\n",
    "              'linear_svc__max_iter': [1e3, 1e4]}"
   ]
  },
  {
   "cell_type": "code",
   "execution_count": 29,
   "metadata": {
    "collapsed": true
   },
   "outputs": [],
   "source": [
    "from sklearn.neighbors import KNeighborsClassifier\n",
    "k_neighbors = KNeighborsClassifier(weights='distance', algorithm='auto')\n",
    "\n",
    "params_kneighbors = {'k_neighbors__n_neighbors': [1, 3, 10],\n",
    "                     'k_neighbors__leaf_size': [2, 5, 10, 30, 50, 100]}"
   ]
  },
  {
   "cell_type": "code",
   "execution_count": 30,
   "metadata": {
    "collapsed": true
   },
   "outputs": [],
   "source": [
    "### put all classifiers together\n",
    "classifiers = [('linear_svc', linear_svc, params_svc),\n",
    "               ('k_neighbors', k_neighbors, params_kneighbors)]"
   ]
  },
  {
   "cell_type": "markdown",
   "metadata": {},
   "source": [
    "# Validation and Evaluation\n"
   ]
  },
  {
   "cell_type": "markdown",
   "metadata": {},
   "source": [
    "## Validation\n",
    "To prevent overfitting, a cross validation is needed to split the dataset into training and testing. StratifiedShuffleSplit is used across all tuning processes with a default test_size of 0.1. Depending on different steps, the n_iter paramter used for cross validation varies, as listed below,\n",
    "\n",
    "- when finding best combination of feature selection and classification method, n_iter = 100;\n",
    "- when tuning on the chosen estimator, n_iter = 1000;\n",
    "- when tuning on the chosen feature selection, n_iter = 100.\n"
   ]
  },
  {
   "cell_type": "markdown",
   "metadata": {},
   "source": [
    "## Evaluation\n",
    "For evaluation, we will use accuracy score, f1 score, precision score, recall score and time consumption when deciding the best estimator. When performing grid search, f1 score is used as a scoring parameter."
   ]
  },
  {
   "cell_type": "markdown",
   "metadata": {},
   "source": [
    "# Exploring Algorithms"
   ]
  },
  {
   "cell_type": "markdown",
   "metadata": {},
   "source": [
    "When runing the esimators on the dataset, there are 8 models generated seperately for scaled and non-scaled features. A comparison among the best choices is as following, listed as model number, feature selection method, classification method, accuracy score, F1 score, precision score, recall score, and time consumption."
   ]
  },
  {
   "cell_type": "code",
   "execution_count": 31,
   "metadata": {
    "collapsed": false
   },
   "outputs": [],
   "source": [
    "### create pipelines\n",
    "pipelines = makePipelines(scalers, pca, feature_selections, classifiers)"
   ]
  },
  {
   "cell_type": "code",
   "execution_count": 32,
   "metadata": {
    "collapsed": false,
    "scrolled": true
   },
   "outputs": [
    {
     "name": "stdout",
     "output_type": "stream",
     "text": [
      "Model 1 \n",
      "-working on classifier linear_svc, using slection method k_best, feature scaling none, PCA none\n",
      "--start tuning...\n",
      "--training on linear_svc with none with none with k_best complete, time used: 182.535933971 \n",
      "--start cross validating...\n",
      "Accuracy: 0.8031, Precision: 0.2308, Recall: 0.2045, F1: 0.2169, F2: 0.2093 \n",
      "cross validation complete, time used: 14.4275910854\n",
      "\n",
      "Model 2 \n",
      "-working on classifier k_neighbors, using slection method k_best, feature scaling none, PCA none\n",
      "--start tuning...\n",
      "--training on k_neighbors with none with none with k_best complete, time used: 5.93703198433 \n",
      "--start cross validating...\n",
      "Accuracy: 0.8403, Precision: 0.297, Recall: 0.1445, F1: 0.1944, F2: 0.161 \n",
      "cross validation complete, time used: 4.64947009087\n",
      "\n",
      "Model 3 \n",
      "-working on classifier linear_svc, using slection method extra_tree, feature scaling none, PCA none\n",
      "--start tuning...\n",
      "--training on linear_svc with none with none with extra_tree complete, time used: 131.731281996 \n",
      "--start cross validating...\n",
      "Accuracy: 0.7507, Precision: 0.1946, Recall: 0.277, F1: 0.2286, F2: 0.2554 \n",
      "cross validation complete, time used: 17.6926448345\n",
      "\n",
      "Model 4 \n",
      "-working on classifier k_neighbors, using slection method extra_tree, feature scaling none, PCA none\n",
      "--start tuning...\n",
      "--training on k_neighbors with none with none with extra_tree complete, time used: 25.1217281818 \n",
      "--start cross validating...\n",
      "Accuracy: 0.8556, Precision: 0.4188, Recall: 0.214, F1: 0.2833, F2: 0.2372 \n",
      "cross validation complete, time used: 14.9909369946\n",
      "\n",
      "Model 5 \n",
      "-working on classifier linear_svc, using slection method k_best, feature scaling none, PCA pca\n",
      "--start tuning...\n",
      "--training on linear_svc with none with pca with k_best complete, time used: 206.315590858 \n",
      "--start cross validating...\n",
      "Accuracy: 0.7147, Precision: 0.2612, Recall: 0.6235, F1: 0.3682, F2: 0.4881 \n",
      "cross validation complete, time used: 4.8416929245\n",
      "\n",
      "Model 6 \n",
      "-working on classifier k_neighbors, using slection method k_best, feature scaling none, PCA pca\n",
      "--start tuning...\n",
      "--training on k_neighbors with none with pca with k_best complete, time used: 6.96882104874 \n",
      "--start cross validating...\n",
      "Accuracy: 0.8403, Precision: 0.297, Recall: 0.1445, F1: 0.1944, F2: 0.161 \n",
      "cross validation complete, time used: 5.10084795952\n",
      "\n",
      "Model 7 \n",
      "-working on classifier linear_svc, using slection method extra_tree, feature scaling none, PCA pca\n",
      "--start tuning...\n",
      "--training on linear_svc with none with pca with extra_tree complete, time used: 108.012984991 \n",
      "--start cross validating...\n",
      "Accuracy: 0.6715, Precision: 0.2172, Recall: 0.562, F1: 0.3133, F2: 0.4266 \n",
      "cross validation complete, time used: 15.0764219761\n",
      "\n",
      "Model 8 \n",
      "-working on classifier k_neighbors, using slection method extra_tree, feature scaling none, PCA pca\n",
      "--start tuning...\n",
      "--training on k_neighbors with none with pca with extra_tree complete, time used: 25.9959049225 \n",
      "--start cross validating...\n",
      "Accuracy: 0.8556, Precision: 0.4188, Recall: 0.214, F1: 0.2833, F2: 0.2372 \n",
      "cross validation complete, time used: 15.6945340633\n",
      "\n",
      "Model 9 \n",
      "-working on classifier linear_svc, using slection method k_best, feature scaling standardscaler, PCA none\n",
      "--start tuning...\n",
      "--training on linear_svc with standardscaler with none with k_best complete, time used: 52.3867251873 \n",
      "--start cross validating...\n",
      "Accuracy: 0.7282, Precision: 0.2179, Recall: 0.401, F1: 0.2823, F2: 0.3433 \n",
      "cross validation complete, time used: 4.70945191383\n",
      "\n",
      "Model 10 \n",
      "-working on classifier k_neighbors, using slection method k_best, feature scaling standardscaler, PCA none\n",
      "--start tuning...\n",
      "--training on k_neighbors with standardscaler with none with k_best complete, time used: 6.79638981819 \n",
      "--start cross validating...\n",
      "Accuracy: 0.8417, Precision: 0.3003, Recall: 0.141, F1: 0.1919, F2: 0.1577 \n",
      "cross validation complete, time used: 5.11763119698\n",
      "\n",
      "Model 11 \n",
      "-working on classifier linear_svc, using slection method extra_tree, feature scaling standardscaler, PCA none\n",
      "--start tuning...\n",
      "--training on linear_svc with standardscaler with none with extra_tree complete, time used: 1031.40567207 \n",
      "--start cross validating...\n",
      "Accuracy: 0.7281, Precision: 0.2156, Recall: 0.394, F1: 0.2787, F2: 0.3381 \n",
      "cross validation complete, time used: 15.7563390732\n",
      "\n",
      "Model 12 \n",
      "-working on classifier k_neighbors, using slection method extra_tree, feature scaling standardscaler, PCA none\n",
      "--start tuning...\n",
      "--training on k_neighbors with standardscaler with none with extra_tree complete, time used: 25.9863078594 \n",
      "--start cross validating...\n",
      "Accuracy: 0.8249, Precision: 0.221, Recall: 0.124, F1: 0.1589, F2: 0.1359 \n",
      "cross validation complete, time used: 15.3654830456\n",
      "\n",
      "Model 13 \n",
      "-working on classifier linear_svc, using slection method k_best, feature scaling standardscaler, PCA pca\n",
      "--start tuning...\n",
      "--training on linear_svc with standardscaler with pca with k_best complete, time used: 45.04651618 \n",
      "--start cross validating...\n",
      "Accuracy: 0.719, Precision: 0.2908, Recall: 0.77, F1: 0.4222, F2: 0.5791 \n",
      "cross validation complete, time used: 5.08491182327\n",
      "\n",
      "Model 14 \n",
      "-working on classifier k_neighbors, using slection method k_best, feature scaling standardscaler, PCA pca\n",
      "--start tuning...\n",
      "--training on k_neighbors with standardscaler with pca with k_best complete, time used: 7.81479096413 \n",
      "--start cross validating...\n",
      "Accuracy: 0.8417, Precision: 0.3003, Recall: 0.141, F1: 0.1919, F2: 0.1577 \n",
      "cross validation complete, time used: 5.52608013153\n",
      "\n",
      "Model 15 \n",
      "-working on classifier linear_svc, using slection method extra_tree, feature scaling standardscaler, PCA pca\n",
      "--start tuning...\n",
      "--training on linear_svc with standardscaler with pca with extra_tree complete, time used: 105.603224039 \n",
      "--start cross validating...\n",
      "Accuracy: 0.7112, Precision: 0.274, Recall: 0.707, F1: 0.395, F2: 0.5372 \n",
      "cross validation complete, time used: 15.3575668335\n",
      "\n",
      "Model 16 \n",
      "-working on classifier k_neighbors, using slection method extra_tree, feature scaling standardscaler, PCA pca\n",
      "--start tuning...\n",
      "--training on k_neighbors with standardscaler with pca with extra_tree complete, time used: 26.7411057949 \n",
      "--start cross validating...\n",
      "Accuracy: 0.8249, Precision: 0.221, Recall: 0.124, F1: 0.1589, F2: 0.1359 \n",
      "cross validation complete, time used: 15.7476670742\n",
      "\n",
      "Model 17 \n",
      "-working on classifier linear_svc, using slection method k_best, feature scaling minmaxscaler, PCA none\n",
      "--start tuning...\n",
      "--training on linear_svc with minmaxscaler with none with k_best complete, time used: 34.2430050373 \n",
      "--start cross validating...\n",
      "Accuracy: 0.7728, Precision: 0.1931, Recall: 0.2215, F1: 0.2063, F2: 0.2152 \n",
      "cross validation complete, time used: 4.62484192848\n",
      "\n",
      "Model 18 \n",
      "-working on classifier k_neighbors, using slection method k_best, feature scaling minmaxscaler, PCA none\n",
      "--start tuning...\n",
      "--training on k_neighbors with minmaxscaler with none with k_best complete, time used: 6.5279238224 \n",
      "--start cross validating...\n",
      "Accuracy: 0.8423, Precision: 0.3074, Recall: 0.146, F1: 0.198, F2: 0.1631 \n",
      "cross validation complete, time used: 4.92820715904\n",
      "\n",
      "Model 19 \n",
      "-working on classifier linear_svc, using slection method extra_tree, feature scaling minmaxscaler, PCA none\n",
      "--start tuning...\n",
      "--training on linear_svc with minmaxscaler with none with extra_tree complete, time used: 102.171844006 \n",
      "--start cross validating...\n",
      "Accuracy: 0.8057, Precision: 0.2664, Recall: 0.2605, F1: 0.2634, F2: 0.2617 \n",
      "cross validation complete, time used: 15.0149929523\n",
      "\n",
      "Model 20 \n",
      "-working on classifier k_neighbors, using slection method extra_tree, feature scaling minmaxscaler, PCA none\n",
      "--start tuning...\n",
      "--training on k_neighbors with minmaxscaler with none with extra_tree complete, time used: 25.7794418335 \n",
      "--start cross validating...\n",
      "Accuracy: 0.8288, Precision: 0.25, Recall: 0.142, F1: 0.1811, F2: 0.1554 \n",
      "cross validation complete, time used: 15.3628520966\n",
      "\n",
      "Model 21 \n",
      "-working on classifier linear_svc, using slection method k_best, feature scaling minmaxscaler, PCA pca\n",
      "--start tuning...\n",
      "--training on linear_svc with minmaxscaler with pca with k_best complete, time used: 32.131592989 \n",
      "--start cross validating...\n",
      "Accuracy: 0.7115, Precision: 0.2954, Recall: 0.8405, F1: 0.4372, F2: 0.6139 \n",
      "cross validation complete, time used: 5.03062820435\n",
      "\n",
      "Model 22 \n",
      "-working on classifier k_neighbors, using slection method k_best, feature scaling minmaxscaler, PCA pca\n",
      "--start tuning...\n",
      "--training on k_neighbors with minmaxscaler with pca with k_best complete, time used: 7.6513209343 \n",
      "--start cross validating...\n",
      "Accuracy: 0.8423, Precision: 0.3074, Recall: 0.146, F1: 0.198, F2: 0.1631 \n",
      "cross validation complete, time used: 5.44095206261\n",
      "\n",
      "Model 23 \n",
      "-working on classifier linear_svc, using slection method extra_tree, feature scaling minmaxscaler, PCA pca\n",
      "--start tuning...\n",
      "--training on linear_svc with minmaxscaler with pca with extra_tree complete, time used: 104.382646084 \n",
      "--start cross validating...\n",
      "Accuracy: 0.7152, Precision: 0.2808, Recall: 0.7275, F1: 0.4052, F2: 0.5519 \n",
      "cross validation complete, time used: 15.2483549118\n",
      "\n",
      "Model 24 \n",
      "-working on classifier k_neighbors, using slection method extra_tree, feature scaling minmaxscaler, PCA pca\n",
      "--start tuning...\n",
      "--training on k_neighbors with minmaxscaler with pca with extra_tree complete, time used: 26.6230120659 \n",
      "--start cross validating...\n",
      "Accuracy: 0.8288, Precision: 0.25, Recall: 0.142, F1: 0.1811, F2: 0.1554 \n",
      "cross validation complete, time used: 15.5019590855\n",
      "\n",
      "Model 25 \n",
      "-working on classifier linear_svc, using slection method k_best, feature scaling normalier, PCA none\n",
      "--start tuning...\n",
      "--training on linear_svc with normalier with none with k_best complete, time used: 30.2767758369 \n",
      "--start cross validating...\n",
      "Accuracy: 0.4896, Precision: 0.1623, Recall: 0.6795, F1: 0.262, F2: 0.415 \n",
      "cross validation complete, time used: 4.58235812187\n",
      "\n",
      "Model 26 \n",
      "-working on classifier k_neighbors, using slection method k_best, feature scaling normalier, PCA none\n",
      "--start tuning...\n",
      "--training on k_neighbors with normalier with none with k_best complete, time used: 6.59635710716 \n",
      "--start cross validating...\n",
      "Accuracy: 0.7989, Precision: 0.1044, Recall: 0.067, F1: 0.0816, F2: 0.0722 \n",
      "cross validation complete, time used: 4.93086695671\n",
      "\n",
      "Model 27 \n",
      "-working on classifier linear_svc, using slection method extra_tree, feature scaling normalier, PCA none\n",
      "--start tuning...\n",
      "--training on linear_svc with normalier with none with extra_tree complete, time used: 102.761565208 \n",
      "--start cross validating...\n",
      "Accuracy: 0.5093, Precision: 0.1614, Recall: 0.639, F1: 0.2577, F2: 0.4014 \n",
      "cross validation complete, time used: 15.2419009209\n",
      "\n",
      "Model 28 \n",
      "-working on classifier k_neighbors, using slection method extra_tree, feature scaling normalier, PCA none\n",
      "--start tuning...\n",
      "--training on k_neighbors with normalier with none with extra_tree complete, time used: 373.698232889 \n",
      "--start cross validating...\n",
      "Accuracy: 0.7927, Precision: 0.1103, Recall: 0.0785, F1: 0.0917, F2: 0.0833 \n",
      "cross validation complete, time used: 16.6569800377\n",
      "\n",
      "Model 29 \n",
      "-working on classifier linear_svc, using slection method k_best, feature scaling normalier, PCA pca\n",
      "--start tuning...\n",
      "--training on linear_svc with normalier with pca with k_best complete, time used: 35.3275179863 \n",
      "--start cross validating...\n",
      "Accuracy: 0.701, Precision: 0.1869, Recall: 0.371, F1: 0.2486, F2: 0.3099 \n",
      "cross validation complete, time used: 5.57361602783\n",
      "\n",
      "Model 30 \n",
      "-working on classifier k_neighbors, using slection method k_best, feature scaling normalier, PCA pca\n",
      "--start tuning...\n",
      "--training on k_neighbors with normalier with pca with k_best complete, time used: 8.32029509544 \n",
      "--start cross validating...\n",
      "Accuracy: 0.7989, Precision: 0.1044, Recall: 0.067, F1: 0.0816, F2: 0.0722 \n",
      "cross validation complete, time used: 5.81093192101\n",
      "\n",
      "Model 31 \n",
      "-working on classifier linear_svc, using slection method extra_tree, feature scaling normalier, PCA pca\n",
      "--start tuning...\n",
      "--training on linear_svc with normalier with pca with extra_tree complete, time used: 114.358550072 \n",
      "--start cross validating...\n",
      "Accuracy: 0.6227, Precision: 0.1384, Recall: 0.35, F1: 0.1983, F2: 0.268 \n",
      "cross validation complete, time used: 16.9530699253\n",
      "\n",
      "Model 32 \n",
      "-working on classifier k_neighbors, using slection method extra_tree, feature scaling normalier, PCA pca\n",
      "--start tuning...\n",
      "--training on k_neighbors with normalier with pca with extra_tree complete, time used: 29.0226819515 \n",
      "--start cross validating...\n",
      "Accuracy: 0.7927, Precision: 0.1103, Recall: 0.0785, F1: 0.0917, F2: 0.0833 \n",
      "cross validation complete, time used: 16.9885048866\n",
      "\n"
     ]
    }
   ],
   "source": [
    "### train models on features list\n",
    "model_sets, scores = trainModel(data_dict, features_list, pipelines,\n",
    "                                filename = 'model_metrix.csv')"
   ]
  },
  {
   "cell_type": "code",
   "execution_count": 33,
   "metadata": {
    "collapsed": false,
    "scrolled": true
   },
   "outputs": [
    {
     "name": "stdout",
     "output_type": "stream",
     "text": [
      "Model 1 \n",
      "-working on classifier linear_svc, using slection method k_best, feature scaling none, PCA none\n",
      "--start tuning...\n",
      "--training on linear_svc with none with none with k_best complete, time used: 192.30875802 \n",
      "--start cross validating...\n",
      "Accuracy: 0.7905, Precision: 0.2269, Recall: 0.2375, F1: 0.2321, F2: 0.2353 \n",
      "cross validation complete, time used: 4.66357898712\n",
      "\n",
      "Model 2 \n",
      "-working on classifier k_neighbors, using slection method k_best, feature scaling none, PCA none\n",
      "--start tuning...\n",
      "--training on k_neighbors with none with none with k_best complete, time used: 6.25704288483 \n",
      "--start cross validating...\n",
      "Accuracy: 0.8355, Precision: 0.2677, Recall: 0.1345, F1: 0.179, F2: 0.1494 \n",
      "cross validation complete, time used: 4.94483613968\n",
      "\n",
      "Model 3 \n",
      "-working on classifier linear_svc, using slection method extra_tree, feature scaling none, PCA none\n",
      "--start tuning...\n",
      "--training on linear_svc with none with none with extra_tree complete, time used: 128.061858177 \n",
      "--start cross validating...\n",
      "Accuracy: 0.7372, Precision: 0.2003, Recall: 0.3245, F1: 0.2477, F2: 0.2887 \n",
      "cross validation complete, time used: 16.0336778164\n",
      "\n",
      "Model 4 \n",
      "-working on classifier k_neighbors, using slection method extra_tree, feature scaling none, PCA none\n",
      "--start tuning...\n",
      "--training on k_neighbors with none with none with extra_tree complete, time used: 26.882668972 \n",
      "--start cross validating...\n",
      "Accuracy: 0.8489, Precision: 0.3653, Recall: 0.181, F1: 0.2421, F2: 0.2013 \n",
      "cross validation complete, time used: 18.0016169548\n",
      "\n",
      "Model 5 \n",
      "-working on classifier linear_svc, using slection method k_best, feature scaling none, PCA pca\n",
      "--start tuning...\n",
      "--training on linear_svc with none with pca with k_best complete, time used: 242.368142843 \n",
      "--start cross validating...\n",
      "Accuracy: 0.7064, Precision: 0.2524, Recall: 0.6125, F1: 0.3575, F2: 0.4765 \n",
      "cross validation complete, time used: 5.06521010399\n",
      "\n",
      "Model 6 \n",
      "-working on classifier k_neighbors, using slection method k_best, feature scaling none, PCA pca\n",
      "--start tuning...\n",
      "--training on k_neighbors with none with pca with k_best complete, time used: 8.27816295624 \n",
      "--start cross validating...\n",
      "Accuracy: 0.8355, Precision: 0.2677, Recall: 0.1345, F1: 0.179, F2: 0.1494 \n",
      "cross validation complete, time used: 7.41630101204\n",
      "\n",
      "Model 7 \n",
      "-working on classifier linear_svc, using slection method extra_tree, feature scaling none, PCA pca\n",
      "--start tuning...\n",
      "--training on linear_svc with none with pca with extra_tree complete, time used: 122.50089097 \n",
      "--start cross validating...\n",
      "Accuracy: 0.6615, Precision: 0.2109, Recall: 0.561, F1: 0.3065, F2: 0.4212 \n",
      "cross validation complete, time used: 15.5753068924\n",
      "\n",
      "Model 8 \n",
      "-working on classifier k_neighbors, using slection method extra_tree, feature scaling none, PCA pca\n",
      "--start tuning...\n",
      "--training on k_neighbors with none with pca with extra_tree complete, time used: 26.7854869366 \n",
      "--start cross validating...\n",
      "Accuracy: 0.8489, Precision: 0.3653, Recall: 0.181, F1: 0.2421, F2: 0.2013 \n",
      "cross validation complete, time used: 15.8450670242\n",
      "\n",
      "Model 9 \n",
      "-working on classifier linear_svc, using slection method k_best, feature scaling standardscaler, PCA none\n",
      "--start tuning...\n",
      "--training on linear_svc with standardscaler with none with k_best complete, time used: 58.0597810745 \n",
      "--start cross validating...\n",
      "Accuracy: 0.7251, Precision: 0.2319, Recall: 0.459, F1: 0.3081, F2: 0.3838 \n",
      "cross validation complete, time used: 4.78498601913\n",
      "\n",
      "Model 10 \n",
      "-working on classifier k_neighbors, using slection method k_best, feature scaling standardscaler, PCA none\n",
      "--start tuning...\n",
      "--training on k_neighbors with standardscaler with none with k_best complete, time used: 6.87868785858 \n",
      "--start cross validating...\n",
      "Accuracy: 0.8547, Precision: 0.2847, Recall: 0.0595, F1: 0.0984, F2: 0.0707 \n",
      "cross validation complete, time used: 5.35434103012\n",
      "\n",
      "Model 11 \n",
      "-working on classifier linear_svc, using slection method extra_tree, feature scaling standardscaler, PCA none\n",
      "--start tuning...\n",
      "--training on linear_svc with standardscaler with none with extra_tree complete, time used: 103.964365959 \n",
      "--start cross validating...\n",
      "Accuracy: 0.7254, Precision: 0.2236, Recall: 0.4285, F1: 0.2938, F2: 0.3621 \n",
      "cross validation complete, time used: 15.2463009357\n",
      "\n",
      "Model 12 \n",
      "-working on classifier k_neighbors, using slection method extra_tree, feature scaling standardscaler, PCA none\n",
      "--start tuning...\n",
      "--training on k_neighbors with standardscaler with none with extra_tree complete, time used: 26.2489778996 \n",
      "--start cross validating...\n",
      "Accuracy: 0.8314, Precision: 0.2368, Recall: 0.119, F1: 0.1584, F2: 0.1321 \n",
      "cross validation complete, time used: 15.5933690071\n",
      "\n",
      "Model 13 \n",
      "-working on classifier linear_svc, using slection method k_best, feature scaling standardscaler, PCA pca\n",
      "--start tuning...\n",
      "--training on linear_svc with standardscaler with pca with k_best complete, time used: 47.0031468868 \n",
      "--start cross validating...\n",
      "Accuracy: 0.7136, Precision: 0.2943, Recall: 0.8215, F1: 0.4334, F2: 0.6048 \n",
      "cross validation complete, time used: 5.265583992\n",
      "\n",
      "Model 14 \n",
      "-working on classifier k_neighbors, using slection method k_best, feature scaling standardscaler, PCA pca\n",
      "--start tuning...\n",
      "--training on k_neighbors with standardscaler with pca with k_best complete, time used: 8.0873529911 \n",
      "--start cross validating...\n",
      "Accuracy: 0.8547, Precision: 0.2847, Recall: 0.0595, F1: 0.0984, F2: 0.0707 \n",
      "cross validation complete, time used: 5.85854005814\n",
      "\n",
      "Model 15 \n",
      "-working on classifier linear_svc, using slection method extra_tree, feature scaling standardscaler, PCA pca\n",
      "--start tuning...\n",
      "--training on linear_svc with standardscaler with pca with extra_tree complete, time used: 106.249686956 \n",
      "--start cross validating...\n",
      "Accuracy: 0.7561, Precision: 0.2679, Recall: 0.4785, F1: 0.3435, F2: 0.4135 \n",
      "cross validation complete, time used: 15.557986021\n",
      "\n",
      "Model 16 \n",
      "-working on classifier k_neighbors, using slection method extra_tree, feature scaling standardscaler, PCA pca\n",
      "--start tuning...\n",
      "--training on k_neighbors with standardscaler with pca with extra_tree complete, time used: 27.2476568222 \n",
      "--start cross validating...\n",
      "Accuracy: 0.8314, Precision: 0.2368, Recall: 0.119, F1: 0.1584, F2: 0.1321 \n",
      "cross validation complete, time used: 15.9889860153\n",
      "\n",
      "Model 17 \n",
      "-working on classifier linear_svc, using slection method k_best, feature scaling minmaxscaler, PCA none\n",
      "--start tuning...\n",
      "--training on linear_svc with minmaxscaler with none with k_best complete, time used: 36.2146399021 \n",
      "--start cross validating...\n",
      "Accuracy: 0.8008, Precision: 0.2602, Recall: 0.268, F1: 0.264, F2: 0.2664 \n",
      "cross validation complete, time used: 4.6600151062\n",
      "\n",
      "Model 18 \n",
      "-working on classifier k_neighbors, using slection method k_best, feature scaling minmaxscaler, PCA none\n",
      "--start tuning...\n",
      "--training on k_neighbors with minmaxscaler with none with k_best complete, time used: 6.62052297592 \n",
      "--start cross validating...\n",
      "Accuracy: 0.8586, Precision: 0.3286, Recall: 0.058, F1: 0.0986, F2: 0.0694 \n",
      "cross validation complete, time used: 5.12619018555\n",
      "\n",
      "Model 19 \n",
      "-working on classifier linear_svc, using slection method extra_tree, feature scaling minmaxscaler, PCA none\n",
      "--start tuning...\n",
      "--training on linear_svc with minmaxscaler with none with extra_tree complete, time used: 102.870604038 \n",
      "--start cross validating...\n",
      "Accuracy: 0.7729, Precision: 0.2217, Recall: 0.28, F1: 0.2475, F2: 0.266 \n",
      "cross validation complete, time used: 15.147810936\n",
      "\n",
      "Model 20 \n",
      "-working on classifier k_neighbors, using slection method extra_tree, feature scaling minmaxscaler, PCA none\n",
      "--start tuning...\n",
      "--training on k_neighbors with minmaxscaler with none with extra_tree complete, time used: 25.9594211578 \n",
      "--start cross validating...\n",
      "Accuracy: 0.8355, Precision: 0.2672, Recall: 0.134, F1: 0.1785, F2: 0.1488 \n",
      "cross validation complete, time used: 15.4130558968\n",
      "\n",
      "Model 21 \n",
      "-working on classifier linear_svc, using slection method k_best, feature scaling minmaxscaler, PCA pca\n",
      "--start tuning...\n",
      "--training on linear_svc with minmaxscaler with pca with k_best complete, time used: 33.4583311081 \n",
      "--start cross validating...\n",
      "Accuracy: 0.7037, Precision: 0.2889, Recall: 0.8365, F1: 0.4295, F2: 0.6066 \n",
      "cross validation complete, time used: 5.21855998039\n",
      "\n",
      "Model 22 \n",
      "-working on classifier k_neighbors, using slection method k_best, feature scaling minmaxscaler, PCA pca\n",
      "--start tuning...\n",
      "--training on k_neighbors with minmaxscaler with pca with k_best complete, time used: 7.90327501297 \n",
      "--start cross validating...\n",
      "Accuracy: 0.8586, Precision: 0.3286, Recall: 0.058, F1: 0.0986, F2: 0.0694 \n",
      "cross validation complete, time used: 5.7607820034\n",
      "\n",
      "Model 23 \n",
      "-working on classifier linear_svc, using slection method extra_tree, feature scaling minmaxscaler, PCA pca\n",
      "--start tuning...\n",
      "--training on linear_svc with minmaxscaler with pca with extra_tree complete, time used: 105.534395933 \n",
      "--start cross validating...\n",
      "Accuracy: 0.7187, Precision: 0.2826, Recall: 0.721, F1: 0.406, F2: 0.5503 \n",
      "cross validation complete, time used: 15.4909961224\n",
      "\n",
      "Model 24 \n",
      "-working on classifier k_neighbors, using slection method extra_tree, feature scaling minmaxscaler, PCA pca\n",
      "--start tuning...\n",
      "--training on k_neighbors with minmaxscaler with pca with extra_tree complete, time used: 26.8431470394 \n",
      "--start cross validating...\n",
      "Accuracy: 0.8355, Precision: 0.2672, Recall: 0.134, F1: 0.1785, F2: 0.1488 \n",
      "cross validation complete, time used: 15.7553150654\n",
      "\n",
      "Model 25 \n",
      "-working on classifier linear_svc, using slection method k_best, feature scaling normalier, PCA none\n",
      "--start tuning...\n",
      "--training on linear_svc with normalier with none with k_best complete, time used: 30.7930898666 \n",
      "--start cross validating...\n",
      "Accuracy: 0.5222, Precision: 0.1752, Recall: 0.6965, F1: 0.2799, F2: 0.4367 \n",
      "cross validation complete, time used: 4.68961715698\n",
      "\n",
      "Model 26 \n",
      "-working on classifier k_neighbors, using slection method k_best, feature scaling normalier, PCA none\n",
      "--start tuning...\n",
      "--training on k_neighbors with normalier with none with k_best complete, time used: 6.69892811775 \n",
      "--start cross validating...\n",
      "Accuracy: 0.7987, Precision: 0.1003, Recall: 0.064, F1: 0.0781, F2: 0.069 \n",
      "cross validation complete, time used: 5.08440685272\n",
      "\n",
      "Model 27 \n",
      "-working on classifier linear_svc, using slection method extra_tree, feature scaling normalier, PCA none\n",
      "--start tuning...\n",
      "--training on linear_svc with normalier with none with extra_tree complete, time used: 104.443423033 \n",
      "--start cross validating...\n",
      "Accuracy: 0.5489, Precision: 0.1736, Recall: 0.6335, F1: 0.2725, F2: 0.4141 \n",
      "cross validation complete, time used: 15.3735787868\n",
      "\n",
      "Model 28 \n",
      "-working on classifier k_neighbors, using slection method extra_tree, feature scaling normalier, PCA none\n",
      "--start tuning...\n",
      "--training on k_neighbors with normalier with none with extra_tree complete, time used: 26.2481298447 \n",
      "--start cross validating...\n",
      "Accuracy: 0.7965, Precision: 0.127, Recall: 0.0895, F1: 0.105, F2: 0.0951 \n",
      "cross validation complete, time used: 15.6808710098\n",
      "\n",
      "Model 29 \n",
      "-working on classifier linear_svc, using slection method k_best, feature scaling normalier, PCA pca\n",
      "--start tuning...\n",
      "--training on linear_svc with normalier with pca with k_best complete, time used: 31.8047568798 \n",
      "--start cross validating...\n",
      "Accuracy: 0.6582, Precision: 0.1745, Recall: 0.419, F1: 0.2464, F2: 0.3273 \n",
      "cross validation complete, time used: 5.22756314278\n",
      "\n",
      "Model 30 \n",
      "-working on classifier k_neighbors, using slection method k_best, feature scaling normalier, PCA pca\n",
      "--start tuning...\n",
      "--training on k_neighbors with normalier with pca with k_best complete, time used: 7.82432603836 \n",
      "--start cross validating...\n",
      "Accuracy: 0.7987, Precision: 0.1003, Recall: 0.064, F1: 0.0781, F2: 0.069 \n",
      "cross validation complete, time used: 5.56587505341\n",
      "\n",
      "Model 31 \n",
      "-working on classifier linear_svc, using slection method extra_tree, feature scaling normalier, PCA pca\n",
      "--start tuning...\n",
      "--training on linear_svc with normalier with pca with extra_tree complete, time used: 106.601001978 \n",
      "--start cross validating...\n",
      "Accuracy: 0.6521, Precision: 0.1582, Recall: 0.3725, F1: 0.2221, F2: 0.2931 \n",
      "cross validation complete, time used: 15.8043518066\n",
      "\n",
      "Model 32 \n",
      "-working on classifier k_neighbors, using slection method extra_tree, feature scaling normalier, PCA pca\n",
      "--start tuning...\n",
      "--training on k_neighbors with normalier with pca with extra_tree complete, time used: 27.2372469902 \n",
      "--start cross validating...\n",
      "Accuracy: 0.7965, Precision: 0.127, Recall: 0.0895, F1: 0.105, F2: 0.0951 \n",
      "cross validation complete, time used: 16.0275521278\n",
      "\n"
     ]
    }
   ],
   "source": [
    "### train models on new features list\n",
    "model_sets_new, scores_new = trainModel(data_dict, new_features_list, pipelines,\n",
    "                                        filename = 'model_metrix_new_features.csv')"
   ]
  },
  {
   "cell_type": "markdown",
   "metadata": {},
   "source": [
    "check the results."
   ]
  },
  {
   "cell_type": "code",
   "execution_count": 34,
   "metadata": {
    "collapsed": false,
    "scrolled": false
   },
   "outputs": [
    {
     "data": {
      "text/html": [
       "<div>\n",
       "<table border=\"1\" class=\"dataframe\">\n",
       "  <thead>\n",
       "    <tr style=\"text-align: right;\">\n",
       "      <th></th>\n",
       "      <th>model</th>\n",
       "      <th>scaler</th>\n",
       "      <th>feature_selection_method</th>\n",
       "      <th>pca</th>\n",
       "      <th>classification_method</th>\n",
       "      <th>accuracy_score</th>\n",
       "      <th>f1_score</th>\n",
       "      <th>precision_score</th>\n",
       "      <th>recall_score</th>\n",
       "      <th>time_used</th>\n",
       "    </tr>\n",
       "  </thead>\n",
       "  <tbody>\n",
       "    <tr>\n",
       "      <th>0</th>\n",
       "      <td>21</td>\n",
       "      <td>minmaxscaler</td>\n",
       "      <td>pca</td>\n",
       "      <td>k_best</td>\n",
       "      <td>linear_svc</td>\n",
       "      <td>0.7115</td>\n",
       "      <td>0.4372</td>\n",
       "      <td>0.2954</td>\n",
       "      <td>0.8405</td>\n",
       "      <td>37.162</td>\n",
       "    </tr>\n",
       "    <tr>\n",
       "      <th>3</th>\n",
       "      <td>13</td>\n",
       "      <td>standardscaler</td>\n",
       "      <td>pca</td>\n",
       "      <td>k_best</td>\n",
       "      <td>linear_svc</td>\n",
       "      <td>0.7190</td>\n",
       "      <td>0.4222</td>\n",
       "      <td>0.2908</td>\n",
       "      <td>0.7700</td>\n",
       "      <td>50.131</td>\n",
       "    </tr>\n",
       "    <tr>\n",
       "      <th>6</th>\n",
       "      <td>23</td>\n",
       "      <td>minmaxscaler</td>\n",
       "      <td>pca</td>\n",
       "      <td>extra_tree</td>\n",
       "      <td>linear_svc</td>\n",
       "      <td>0.7152</td>\n",
       "      <td>0.4052</td>\n",
       "      <td>0.2808</td>\n",
       "      <td>0.7275</td>\n",
       "      <td>119.631</td>\n",
       "    </tr>\n",
       "    <tr>\n",
       "      <th>7</th>\n",
       "      <td>15</td>\n",
       "      <td>standardscaler</td>\n",
       "      <td>pca</td>\n",
       "      <td>extra_tree</td>\n",
       "      <td>linear_svc</td>\n",
       "      <td>0.7112</td>\n",
       "      <td>0.3950</td>\n",
       "      <td>0.2740</td>\n",
       "      <td>0.7070</td>\n",
       "      <td>120.961</td>\n",
       "    </tr>\n",
       "    <tr>\n",
       "      <th>10</th>\n",
       "      <td>5</td>\n",
       "      <td>none</td>\n",
       "      <td>pca</td>\n",
       "      <td>k_best</td>\n",
       "      <td>linear_svc</td>\n",
       "      <td>0.7147</td>\n",
       "      <td>0.3682</td>\n",
       "      <td>0.2612</td>\n",
       "      <td>0.6235</td>\n",
       "      <td>211.157</td>\n",
       "    </tr>\n",
       "    <tr>\n",
       "      <th>8</th>\n",
       "      <td>7</td>\n",
       "      <td>none</td>\n",
       "      <td>pca</td>\n",
       "      <td>extra_tree</td>\n",
       "      <td>linear_svc</td>\n",
       "      <td>0.6715</td>\n",
       "      <td>0.3133</td>\n",
       "      <td>0.2172</td>\n",
       "      <td>0.5620</td>\n",
       "      <td>123.089</td>\n",
       "    </tr>\n",
       "    <tr>\n",
       "      <th>1</th>\n",
       "      <td>4</td>\n",
       "      <td>none</td>\n",
       "      <td>none</td>\n",
       "      <td>extra_tree</td>\n",
       "      <td>k_neighbors</td>\n",
       "      <td>0.8556</td>\n",
       "      <td>0.2833</td>\n",
       "      <td>0.4188</td>\n",
       "      <td>0.2140</td>\n",
       "      <td>40.113</td>\n",
       "    </tr>\n",
       "    <tr>\n",
       "      <th>2</th>\n",
       "      <td>8</td>\n",
       "      <td>none</td>\n",
       "      <td>pca</td>\n",
       "      <td>extra_tree</td>\n",
       "      <td>k_neighbors</td>\n",
       "      <td>0.8556</td>\n",
       "      <td>0.2833</td>\n",
       "      <td>0.4188</td>\n",
       "      <td>0.2140</td>\n",
       "      <td>41.690</td>\n",
       "    </tr>\n",
       "    <tr>\n",
       "      <th>4</th>\n",
       "      <td>9</td>\n",
       "      <td>standardscaler</td>\n",
       "      <td>none</td>\n",
       "      <td>k_best</td>\n",
       "      <td>linear_svc</td>\n",
       "      <td>0.7282</td>\n",
       "      <td>0.2823</td>\n",
       "      <td>0.2179</td>\n",
       "      <td>0.4010</td>\n",
       "      <td>57.096</td>\n",
       "    </tr>\n",
       "    <tr>\n",
       "      <th>11</th>\n",
       "      <td>11</td>\n",
       "      <td>standardscaler</td>\n",
       "      <td>none</td>\n",
       "      <td>extra_tree</td>\n",
       "      <td>linear_svc</td>\n",
       "      <td>0.7281</td>\n",
       "      <td>0.2787</td>\n",
       "      <td>0.2156</td>\n",
       "      <td>0.3940</td>\n",
       "      <td>1047.162</td>\n",
       "    </tr>\n",
       "    <tr>\n",
       "      <th>5</th>\n",
       "      <td>19</td>\n",
       "      <td>minmaxscaler</td>\n",
       "      <td>none</td>\n",
       "      <td>extra_tree</td>\n",
       "      <td>linear_svc</td>\n",
       "      <td>0.8057</td>\n",
       "      <td>0.2634</td>\n",
       "      <td>0.2664</td>\n",
       "      <td>0.2605</td>\n",
       "      <td>117.187</td>\n",
       "    </tr>\n",
       "    <tr>\n",
       "      <th>9</th>\n",
       "      <td>1</td>\n",
       "      <td>none</td>\n",
       "      <td>none</td>\n",
       "      <td>k_best</td>\n",
       "      <td>linear_svc</td>\n",
       "      <td>0.8031</td>\n",
       "      <td>0.2169</td>\n",
       "      <td>0.2308</td>\n",
       "      <td>0.2045</td>\n",
       "      <td>196.964</td>\n",
       "    </tr>\n",
       "  </tbody>\n",
       "</table>\n",
       "</div>"
      ],
      "text/plain": [
       "    model          scaler feature_selection_method         pca  \\\n",
       "0      21    minmaxscaler                      pca      k_best   \n",
       "3      13  standardscaler                      pca      k_best   \n",
       "6      23    minmaxscaler                      pca  extra_tree   \n",
       "7      15  standardscaler                      pca  extra_tree   \n",
       "10      5            none                      pca      k_best   \n",
       "8       7            none                      pca  extra_tree   \n",
       "1       4            none                     none  extra_tree   \n",
       "2       8            none                      pca  extra_tree   \n",
       "4       9  standardscaler                     none      k_best   \n",
       "11     11  standardscaler                     none  extra_tree   \n",
       "5      19    minmaxscaler                     none  extra_tree   \n",
       "9       1            none                     none      k_best   \n",
       "\n",
       "   classification_method  accuracy_score  f1_score  precision_score  \\\n",
       "0             linear_svc          0.7115    0.4372           0.2954   \n",
       "3             linear_svc          0.7190    0.4222           0.2908   \n",
       "6             linear_svc          0.7152    0.4052           0.2808   \n",
       "7             linear_svc          0.7112    0.3950           0.2740   \n",
       "10            linear_svc          0.7147    0.3682           0.2612   \n",
       "8             linear_svc          0.6715    0.3133           0.2172   \n",
       "1            k_neighbors          0.8556    0.2833           0.4188   \n",
       "2            k_neighbors          0.8556    0.2833           0.4188   \n",
       "4             linear_svc          0.7282    0.2823           0.2179   \n",
       "11            linear_svc          0.7281    0.2787           0.2156   \n",
       "5             linear_svc          0.8057    0.2634           0.2664   \n",
       "9             linear_svc          0.8031    0.2169           0.2308   \n",
       "\n",
       "    recall_score  time_used  \n",
       "0         0.8405     37.162  \n",
       "3         0.7700     50.131  \n",
       "6         0.7275    119.631  \n",
       "7         0.7070    120.961  \n",
       "10        0.6235    211.157  \n",
       "8         0.5620    123.089  \n",
       "1         0.2140     40.113  \n",
       "2         0.2140     41.690  \n",
       "4         0.4010     57.096  \n",
       "11        0.3940   1047.162  \n",
       "5         0.2605    117.187  \n",
       "9         0.2045    196.964  "
      ]
     },
     "execution_count": 34,
     "metadata": {},
     "output_type": "execute_result"
    }
   ],
   "source": [
    "pd.read_csv(\"model_metrix.csv\").sort(['f1_score','time_used'], ascending= [0, 1])"
   ]
  },
  {
   "cell_type": "code",
   "execution_count": 35,
   "metadata": {
    "collapsed": false,
    "scrolled": true
   },
   "outputs": [
    {
     "data": {
      "text/html": [
       "<div>\n",
       "<table border=\"1\" class=\"dataframe\">\n",
       "  <thead>\n",
       "    <tr style=\"text-align: right;\">\n",
       "      <th></th>\n",
       "      <th>model</th>\n",
       "      <th>scaler</th>\n",
       "      <th>feature_selection_method</th>\n",
       "      <th>pca</th>\n",
       "      <th>classification_method</th>\n",
       "      <th>accuracy_score</th>\n",
       "      <th>f1_score</th>\n",
       "      <th>precision_score</th>\n",
       "      <th>recall_score</th>\n",
       "      <th>time_used</th>\n",
       "    </tr>\n",
       "  </thead>\n",
       "  <tbody>\n",
       "    <tr>\n",
       "      <th>4</th>\n",
       "      <td>13</td>\n",
       "      <td>standardscaler</td>\n",
       "      <td>pca</td>\n",
       "      <td>k_best</td>\n",
       "      <td>linear_svc</td>\n",
       "      <td>0.7136</td>\n",
       "      <td>0.4334</td>\n",
       "      <td>0.2943</td>\n",
       "      <td>0.8215</td>\n",
       "      <td>52.269</td>\n",
       "    </tr>\n",
       "    <tr>\n",
       "      <th>0</th>\n",
       "      <td>21</td>\n",
       "      <td>minmaxscaler</td>\n",
       "      <td>pca</td>\n",
       "      <td>k_best</td>\n",
       "      <td>linear_svc</td>\n",
       "      <td>0.7037</td>\n",
       "      <td>0.4295</td>\n",
       "      <td>0.2889</td>\n",
       "      <td>0.8365</td>\n",
       "      <td>38.677</td>\n",
       "    </tr>\n",
       "    <tr>\n",
       "      <th>8</th>\n",
       "      <td>23</td>\n",
       "      <td>minmaxscaler</td>\n",
       "      <td>pca</td>\n",
       "      <td>extra_tree</td>\n",
       "      <td>linear_svc</td>\n",
       "      <td>0.7187</td>\n",
       "      <td>0.4060</td>\n",
       "      <td>0.2826</td>\n",
       "      <td>0.7210</td>\n",
       "      <td>121.025</td>\n",
       "    </tr>\n",
       "    <tr>\n",
       "      <th>13</th>\n",
       "      <td>5</td>\n",
       "      <td>none</td>\n",
       "      <td>pca</td>\n",
       "      <td>k_best</td>\n",
       "      <td>linear_svc</td>\n",
       "      <td>0.7064</td>\n",
       "      <td>0.3575</td>\n",
       "      <td>0.2524</td>\n",
       "      <td>0.6125</td>\n",
       "      <td>247.433</td>\n",
       "    </tr>\n",
       "    <tr>\n",
       "      <th>9</th>\n",
       "      <td>15</td>\n",
       "      <td>standardscaler</td>\n",
       "      <td>pca</td>\n",
       "      <td>extra_tree</td>\n",
       "      <td>linear_svc</td>\n",
       "      <td>0.7561</td>\n",
       "      <td>0.3435</td>\n",
       "      <td>0.2679</td>\n",
       "      <td>0.4785</td>\n",
       "      <td>121.808</td>\n",
       "    </tr>\n",
       "    <tr>\n",
       "      <th>5</th>\n",
       "      <td>9</td>\n",
       "      <td>standardscaler</td>\n",
       "      <td>none</td>\n",
       "      <td>k_best</td>\n",
       "      <td>linear_svc</td>\n",
       "      <td>0.7251</td>\n",
       "      <td>0.3081</td>\n",
       "      <td>0.2319</td>\n",
       "      <td>0.4590</td>\n",
       "      <td>62.845</td>\n",
       "    </tr>\n",
       "    <tr>\n",
       "      <th>10</th>\n",
       "      <td>7</td>\n",
       "      <td>none</td>\n",
       "      <td>pca</td>\n",
       "      <td>extra_tree</td>\n",
       "      <td>linear_svc</td>\n",
       "      <td>0.6615</td>\n",
       "      <td>0.3065</td>\n",
       "      <td>0.2109</td>\n",
       "      <td>0.5610</td>\n",
       "      <td>138.076</td>\n",
       "    </tr>\n",
       "    <tr>\n",
       "      <th>7</th>\n",
       "      <td>11</td>\n",
       "      <td>standardscaler</td>\n",
       "      <td>none</td>\n",
       "      <td>extra_tree</td>\n",
       "      <td>linear_svc</td>\n",
       "      <td>0.7254</td>\n",
       "      <td>0.2938</td>\n",
       "      <td>0.2236</td>\n",
       "      <td>0.4285</td>\n",
       "      <td>119.211</td>\n",
       "    </tr>\n",
       "    <tr>\n",
       "      <th>1</th>\n",
       "      <td>17</td>\n",
       "      <td>minmaxscaler</td>\n",
       "      <td>none</td>\n",
       "      <td>k_best</td>\n",
       "      <td>linear_svc</td>\n",
       "      <td>0.8008</td>\n",
       "      <td>0.2640</td>\n",
       "      <td>0.2602</td>\n",
       "      <td>0.2680</td>\n",
       "      <td>40.875</td>\n",
       "    </tr>\n",
       "    <tr>\n",
       "      <th>11</th>\n",
       "      <td>3</td>\n",
       "      <td>none</td>\n",
       "      <td>none</td>\n",
       "      <td>extra_tree</td>\n",
       "      <td>linear_svc</td>\n",
       "      <td>0.7372</td>\n",
       "      <td>0.2477</td>\n",
       "      <td>0.2003</td>\n",
       "      <td>0.3245</td>\n",
       "      <td>144.096</td>\n",
       "    </tr>\n",
       "    <tr>\n",
       "      <th>6</th>\n",
       "      <td>19</td>\n",
       "      <td>minmaxscaler</td>\n",
       "      <td>none</td>\n",
       "      <td>extra_tree</td>\n",
       "      <td>linear_svc</td>\n",
       "      <td>0.7729</td>\n",
       "      <td>0.2475</td>\n",
       "      <td>0.2217</td>\n",
       "      <td>0.2800</td>\n",
       "      <td>118.018</td>\n",
       "    </tr>\n",
       "    <tr>\n",
       "      <th>2</th>\n",
       "      <td>8</td>\n",
       "      <td>none</td>\n",
       "      <td>pca</td>\n",
       "      <td>extra_tree</td>\n",
       "      <td>k_neighbors</td>\n",
       "      <td>0.8489</td>\n",
       "      <td>0.2421</td>\n",
       "      <td>0.3653</td>\n",
       "      <td>0.1810</td>\n",
       "      <td>42.631</td>\n",
       "    </tr>\n",
       "    <tr>\n",
       "      <th>3</th>\n",
       "      <td>4</td>\n",
       "      <td>none</td>\n",
       "      <td>none</td>\n",
       "      <td>extra_tree</td>\n",
       "      <td>k_neighbors</td>\n",
       "      <td>0.8489</td>\n",
       "      <td>0.2421</td>\n",
       "      <td>0.3653</td>\n",
       "      <td>0.1810</td>\n",
       "      <td>44.884</td>\n",
       "    </tr>\n",
       "    <tr>\n",
       "      <th>12</th>\n",
       "      <td>1</td>\n",
       "      <td>none</td>\n",
       "      <td>none</td>\n",
       "      <td>k_best</td>\n",
       "      <td>linear_svc</td>\n",
       "      <td>0.7905</td>\n",
       "      <td>0.2321</td>\n",
       "      <td>0.2269</td>\n",
       "      <td>0.2375</td>\n",
       "      <td>196.972</td>\n",
       "    </tr>\n",
       "  </tbody>\n",
       "</table>\n",
       "</div>"
      ],
      "text/plain": [
       "    model          scaler feature_selection_method         pca  \\\n",
       "4      13  standardscaler                      pca      k_best   \n",
       "0      21    minmaxscaler                      pca      k_best   \n",
       "8      23    minmaxscaler                      pca  extra_tree   \n",
       "13      5            none                      pca      k_best   \n",
       "9      15  standardscaler                      pca  extra_tree   \n",
       "5       9  standardscaler                     none      k_best   \n",
       "10      7            none                      pca  extra_tree   \n",
       "7      11  standardscaler                     none  extra_tree   \n",
       "1      17    minmaxscaler                     none      k_best   \n",
       "11      3            none                     none  extra_tree   \n",
       "6      19    minmaxscaler                     none  extra_tree   \n",
       "2       8            none                      pca  extra_tree   \n",
       "3       4            none                     none  extra_tree   \n",
       "12      1            none                     none      k_best   \n",
       "\n",
       "   classification_method  accuracy_score  f1_score  precision_score  \\\n",
       "4             linear_svc          0.7136    0.4334           0.2943   \n",
       "0             linear_svc          0.7037    0.4295           0.2889   \n",
       "8             linear_svc          0.7187    0.4060           0.2826   \n",
       "13            linear_svc          0.7064    0.3575           0.2524   \n",
       "9             linear_svc          0.7561    0.3435           0.2679   \n",
       "5             linear_svc          0.7251    0.3081           0.2319   \n",
       "10            linear_svc          0.6615    0.3065           0.2109   \n",
       "7             linear_svc          0.7254    0.2938           0.2236   \n",
       "1             linear_svc          0.8008    0.2640           0.2602   \n",
       "11            linear_svc          0.7372    0.2477           0.2003   \n",
       "6             linear_svc          0.7729    0.2475           0.2217   \n",
       "2            k_neighbors          0.8489    0.2421           0.3653   \n",
       "3            k_neighbors          0.8489    0.2421           0.3653   \n",
       "12            linear_svc          0.7905    0.2321           0.2269   \n",
       "\n",
       "    recall_score  time_used  \n",
       "4         0.8215     52.269  \n",
       "0         0.8365     38.677  \n",
       "8         0.7210    121.025  \n",
       "13        0.6125    247.433  \n",
       "9         0.4785    121.808  \n",
       "5         0.4590     62.845  \n",
       "10        0.5610    138.076  \n",
       "7         0.4285    119.211  \n",
       "1         0.2680     40.875  \n",
       "11        0.3245    144.096  \n",
       "6         0.2800    118.018  \n",
       "2         0.1810     42.631  \n",
       "3         0.1810     44.884  \n",
       "12        0.2375    196.972  "
      ]
     },
     "execution_count": 35,
     "metadata": {},
     "output_type": "execute_result"
    }
   ],
   "source": [
    "pd.read_csv(\"model_metrix_new_features.csv\").sort(['f1_score','time_used'], ascending= [0, 1])"
   ]
  },
  {
   "cell_type": "markdown",
   "metadata": {
    "collapsed": true
   },
   "source": [
    "# Final Tuning on the Estimator"
   ]
  },
  {
   "cell_type": "markdown",
   "metadata": {},
   "source": [
    "Based on the training results, the added features were not helping in getting the model becoming better, thus they are discarded. The final estimator will be built based on the tuned model 21. The final tuning are listed as below."
   ]
  },
  {
   "cell_type": "markdown",
   "metadata": {},
   "source": [
    "## Extract Information for Final Model"
   ]
  },
  {
   "cell_type": "code",
   "execution_count": 36,
   "metadata": {
    "collapsed": false
   },
   "outputs": [],
   "source": [
    "### extract the pipeline\n",
    "pipeline = model_sets[20][1]\n",
    "tuning_score = scores[20]"
   ]
  },
  {
   "cell_type": "code",
   "execution_count": 37,
   "metadata": {
    "collapsed": false,
    "scrolled": true
   },
   "outputs": [
    {
     "data": {
      "text/html": [
       "<div>\n",
       "<table border=\"1\" class=\"dataframe\">\n",
       "  <thead>\n",
       "    <tr style=\"text-align: right;\">\n",
       "      <th></th>\n",
       "      <th>tol</th>\n",
       "      <th>C</th>\n",
       "      <th>max_iter</th>\n",
       "      <th>mean</th>\n",
       "      <th>std</th>\n",
       "    </tr>\n",
       "  </thead>\n",
       "  <tbody>\n",
       "    <tr>\n",
       "      <th>0</th>\n",
       "      <td>0.0001</td>\n",
       "      <td>0.01</td>\n",
       "      <td>1000</td>\n",
       "      <td>0.0000</td>\n",
       "      <td>0.0000</td>\n",
       "    </tr>\n",
       "    <tr>\n",
       "      <th>1</th>\n",
       "      <td>0.0010</td>\n",
       "      <td>0.01</td>\n",
       "      <td>1000</td>\n",
       "      <td>0.0000</td>\n",
       "      <td>0.0000</td>\n",
       "    </tr>\n",
       "    <tr>\n",
       "      <th>2</th>\n",
       "      <td>0.0100</td>\n",
       "      <td>0.01</td>\n",
       "      <td>1000</td>\n",
       "      <td>0.0000</td>\n",
       "      <td>0.0000</td>\n",
       "    </tr>\n",
       "    <tr>\n",
       "      <th>3</th>\n",
       "      <td>0.1000</td>\n",
       "      <td>0.01</td>\n",
       "      <td>1000</td>\n",
       "      <td>0.0000</td>\n",
       "      <td>0.0000</td>\n",
       "    </tr>\n",
       "    <tr>\n",
       "      <th>4</th>\n",
       "      <td>1.0000</td>\n",
       "      <td>0.01</td>\n",
       "      <td>1000</td>\n",
       "      <td>0.0000</td>\n",
       "      <td>0.0000</td>\n",
       "    </tr>\n",
       "    <tr>\n",
       "      <th>5</th>\n",
       "      <td>0.0001</td>\n",
       "      <td>0.01</td>\n",
       "      <td>10000</td>\n",
       "      <td>0.0000</td>\n",
       "      <td>0.0000</td>\n",
       "    </tr>\n",
       "    <tr>\n",
       "      <th>6</th>\n",
       "      <td>0.0010</td>\n",
       "      <td>0.01</td>\n",
       "      <td>10000</td>\n",
       "      <td>0.0000</td>\n",
       "      <td>0.0000</td>\n",
       "    </tr>\n",
       "    <tr>\n",
       "      <th>7</th>\n",
       "      <td>0.0100</td>\n",
       "      <td>0.01</td>\n",
       "      <td>10000</td>\n",
       "      <td>0.0000</td>\n",
       "      <td>0.0000</td>\n",
       "    </tr>\n",
       "    <tr>\n",
       "      <th>8</th>\n",
       "      <td>0.1000</td>\n",
       "      <td>0.01</td>\n",
       "      <td>10000</td>\n",
       "      <td>0.0000</td>\n",
       "      <td>0.0000</td>\n",
       "    </tr>\n",
       "    <tr>\n",
       "      <th>9</th>\n",
       "      <td>1.0000</td>\n",
       "      <td>0.01</td>\n",
       "      <td>10000</td>\n",
       "      <td>0.0000</td>\n",
       "      <td>0.0000</td>\n",
       "    </tr>\n",
       "    <tr>\n",
       "      <th>10</th>\n",
       "      <td>0.0001</td>\n",
       "      <td>0.03</td>\n",
       "      <td>1000</td>\n",
       "      <td>0.0000</td>\n",
       "      <td>0.0000</td>\n",
       "    </tr>\n",
       "    <tr>\n",
       "      <th>11</th>\n",
       "      <td>0.0010</td>\n",
       "      <td>0.03</td>\n",
       "      <td>1000</td>\n",
       "      <td>0.0000</td>\n",
       "      <td>0.0000</td>\n",
       "    </tr>\n",
       "    <tr>\n",
       "      <th>12</th>\n",
       "      <td>0.0100</td>\n",
       "      <td>0.03</td>\n",
       "      <td>1000</td>\n",
       "      <td>0.0000</td>\n",
       "      <td>0.0000</td>\n",
       "    </tr>\n",
       "    <tr>\n",
       "      <th>13</th>\n",
       "      <td>0.1000</td>\n",
       "      <td>0.03</td>\n",
       "      <td>1000</td>\n",
       "      <td>0.0000</td>\n",
       "      <td>0.0000</td>\n",
       "    </tr>\n",
       "    <tr>\n",
       "      <th>14</th>\n",
       "      <td>1.0000</td>\n",
       "      <td>0.03</td>\n",
       "      <td>1000</td>\n",
       "      <td>0.0000</td>\n",
       "      <td>0.0000</td>\n",
       "    </tr>\n",
       "    <tr>\n",
       "      <th>15</th>\n",
       "      <td>0.0001</td>\n",
       "      <td>0.03</td>\n",
       "      <td>10000</td>\n",
       "      <td>0.0000</td>\n",
       "      <td>0.0000</td>\n",
       "    </tr>\n",
       "    <tr>\n",
       "      <th>16</th>\n",
       "      <td>0.0010</td>\n",
       "      <td>0.03</td>\n",
       "      <td>10000</td>\n",
       "      <td>0.0000</td>\n",
       "      <td>0.0000</td>\n",
       "    </tr>\n",
       "    <tr>\n",
       "      <th>17</th>\n",
       "      <td>0.0100</td>\n",
       "      <td>0.03</td>\n",
       "      <td>10000</td>\n",
       "      <td>0.0000</td>\n",
       "      <td>0.0000</td>\n",
       "    </tr>\n",
       "    <tr>\n",
       "      <th>18</th>\n",
       "      <td>0.1000</td>\n",
       "      <td>0.03</td>\n",
       "      <td>10000</td>\n",
       "      <td>0.0000</td>\n",
       "      <td>0.0000</td>\n",
       "    </tr>\n",
       "    <tr>\n",
       "      <th>19</th>\n",
       "      <td>1.0000</td>\n",
       "      <td>0.03</td>\n",
       "      <td>10000</td>\n",
       "      <td>0.0000</td>\n",
       "      <td>0.0000</td>\n",
       "    </tr>\n",
       "    <tr>\n",
       "      <th>20</th>\n",
       "      <td>0.0001</td>\n",
       "      <td>0.10</td>\n",
       "      <td>1000</td>\n",
       "      <td>0.4585</td>\n",
       "      <td>0.1598</td>\n",
       "    </tr>\n",
       "    <tr>\n",
       "      <th>21</th>\n",
       "      <td>0.0010</td>\n",
       "      <td>0.10</td>\n",
       "      <td>1000</td>\n",
       "      <td>0.4585</td>\n",
       "      <td>0.1598</td>\n",
       "    </tr>\n",
       "    <tr>\n",
       "      <th>22</th>\n",
       "      <td>0.0100</td>\n",
       "      <td>0.10</td>\n",
       "      <td>1000</td>\n",
       "      <td>0.4585</td>\n",
       "      <td>0.1598</td>\n",
       "    </tr>\n",
       "    <tr>\n",
       "      <th>23</th>\n",
       "      <td>0.1000</td>\n",
       "      <td>0.10</td>\n",
       "      <td>1000</td>\n",
       "      <td>0.4585</td>\n",
       "      <td>0.1598</td>\n",
       "    </tr>\n",
       "    <tr>\n",
       "      <th>24</th>\n",
       "      <td>1.0000</td>\n",
       "      <td>0.10</td>\n",
       "      <td>1000</td>\n",
       "      <td>0.4568</td>\n",
       "      <td>0.1602</td>\n",
       "    </tr>\n",
       "    <tr>\n",
       "      <th>25</th>\n",
       "      <td>0.0001</td>\n",
       "      <td>0.10</td>\n",
       "      <td>10000</td>\n",
       "      <td>0.4585</td>\n",
       "      <td>0.1598</td>\n",
       "    </tr>\n",
       "    <tr>\n",
       "      <th>26</th>\n",
       "      <td>0.0010</td>\n",
       "      <td>0.10</td>\n",
       "      <td>10000</td>\n",
       "      <td>0.4585</td>\n",
       "      <td>0.1598</td>\n",
       "    </tr>\n",
       "    <tr>\n",
       "      <th>27</th>\n",
       "      <td>0.0100</td>\n",
       "      <td>0.10</td>\n",
       "      <td>10000</td>\n",
       "      <td>0.4585</td>\n",
       "      <td>0.1598</td>\n",
       "    </tr>\n",
       "    <tr>\n",
       "      <th>28</th>\n",
       "      <td>0.1000</td>\n",
       "      <td>0.10</td>\n",
       "      <td>10000</td>\n",
       "      <td>0.4585</td>\n",
       "      <td>0.1598</td>\n",
       "    </tr>\n",
       "    <tr>\n",
       "      <th>29</th>\n",
       "      <td>1.0000</td>\n",
       "      <td>0.10</td>\n",
       "      <td>10000</td>\n",
       "      <td>0.4568</td>\n",
       "      <td>0.1602</td>\n",
       "    </tr>\n",
       "    <tr>\n",
       "      <th>...</th>\n",
       "      <td>...</td>\n",
       "      <td>...</td>\n",
       "      <td>...</td>\n",
       "      <td>...</td>\n",
       "      <td>...</td>\n",
       "    </tr>\n",
       "    <tr>\n",
       "      <th>40</th>\n",
       "      <td>0.0001</td>\n",
       "      <td>1.00</td>\n",
       "      <td>1000</td>\n",
       "      <td>0.3209</td>\n",
       "      <td>0.3165</td>\n",
       "    </tr>\n",
       "    <tr>\n",
       "      <th>41</th>\n",
       "      <td>0.0010</td>\n",
       "      <td>1.00</td>\n",
       "      <td>1000</td>\n",
       "      <td>0.3209</td>\n",
       "      <td>0.3165</td>\n",
       "    </tr>\n",
       "    <tr>\n",
       "      <th>42</th>\n",
       "      <td>0.0100</td>\n",
       "      <td>1.00</td>\n",
       "      <td>1000</td>\n",
       "      <td>0.3209</td>\n",
       "      <td>0.3165</td>\n",
       "    </tr>\n",
       "    <tr>\n",
       "      <th>43</th>\n",
       "      <td>0.1000</td>\n",
       "      <td>1.00</td>\n",
       "      <td>1000</td>\n",
       "      <td>0.3209</td>\n",
       "      <td>0.3165</td>\n",
       "    </tr>\n",
       "    <tr>\n",
       "      <th>44</th>\n",
       "      <td>1.0000</td>\n",
       "      <td>1.00</td>\n",
       "      <td>1000</td>\n",
       "      <td>0.3109</td>\n",
       "      <td>0.3177</td>\n",
       "    </tr>\n",
       "    <tr>\n",
       "      <th>45</th>\n",
       "      <td>0.0001</td>\n",
       "      <td>1.00</td>\n",
       "      <td>10000</td>\n",
       "      <td>0.3209</td>\n",
       "      <td>0.3165</td>\n",
       "    </tr>\n",
       "    <tr>\n",
       "      <th>46</th>\n",
       "      <td>0.0010</td>\n",
       "      <td>1.00</td>\n",
       "      <td>10000</td>\n",
       "      <td>0.3209</td>\n",
       "      <td>0.3165</td>\n",
       "    </tr>\n",
       "    <tr>\n",
       "      <th>47</th>\n",
       "      <td>0.0100</td>\n",
       "      <td>1.00</td>\n",
       "      <td>10000</td>\n",
       "      <td>0.3209</td>\n",
       "      <td>0.3165</td>\n",
       "    </tr>\n",
       "    <tr>\n",
       "      <th>48</th>\n",
       "      <td>0.1000</td>\n",
       "      <td>1.00</td>\n",
       "      <td>10000</td>\n",
       "      <td>0.3209</td>\n",
       "      <td>0.3165</td>\n",
       "    </tr>\n",
       "    <tr>\n",
       "      <th>49</th>\n",
       "      <td>1.0000</td>\n",
       "      <td>1.00</td>\n",
       "      <td>10000</td>\n",
       "      <td>0.3109</td>\n",
       "      <td>0.3177</td>\n",
       "    </tr>\n",
       "    <tr>\n",
       "      <th>50</th>\n",
       "      <td>0.0001</td>\n",
       "      <td>3.00</td>\n",
       "      <td>1000</td>\n",
       "      <td>0.3409</td>\n",
       "      <td>0.3371</td>\n",
       "    </tr>\n",
       "    <tr>\n",
       "      <th>51</th>\n",
       "      <td>0.0010</td>\n",
       "      <td>3.00</td>\n",
       "      <td>1000</td>\n",
       "      <td>0.3409</td>\n",
       "      <td>0.3371</td>\n",
       "    </tr>\n",
       "    <tr>\n",
       "      <th>52</th>\n",
       "      <td>0.0100</td>\n",
       "      <td>3.00</td>\n",
       "      <td>1000</td>\n",
       "      <td>0.3409</td>\n",
       "      <td>0.3371</td>\n",
       "    </tr>\n",
       "    <tr>\n",
       "      <th>53</th>\n",
       "      <td>0.1000</td>\n",
       "      <td>3.00</td>\n",
       "      <td>1000</td>\n",
       "      <td>0.3492</td>\n",
       "      <td>0.3380</td>\n",
       "    </tr>\n",
       "    <tr>\n",
       "      <th>54</th>\n",
       "      <td>1.0000</td>\n",
       "      <td>3.00</td>\n",
       "      <td>1000</td>\n",
       "      <td>0.3505</td>\n",
       "      <td>0.3348</td>\n",
       "    </tr>\n",
       "    <tr>\n",
       "      <th>55</th>\n",
       "      <td>0.0001</td>\n",
       "      <td>3.00</td>\n",
       "      <td>10000</td>\n",
       "      <td>0.3409</td>\n",
       "      <td>0.3371</td>\n",
       "    </tr>\n",
       "    <tr>\n",
       "      <th>56</th>\n",
       "      <td>0.0010</td>\n",
       "      <td>3.00</td>\n",
       "      <td>10000</td>\n",
       "      <td>0.3409</td>\n",
       "      <td>0.3371</td>\n",
       "    </tr>\n",
       "    <tr>\n",
       "      <th>57</th>\n",
       "      <td>0.0100</td>\n",
       "      <td>3.00</td>\n",
       "      <td>10000</td>\n",
       "      <td>0.3409</td>\n",
       "      <td>0.3371</td>\n",
       "    </tr>\n",
       "    <tr>\n",
       "      <th>58</th>\n",
       "      <td>0.1000</td>\n",
       "      <td>3.00</td>\n",
       "      <td>10000</td>\n",
       "      <td>0.3492</td>\n",
       "      <td>0.3380</td>\n",
       "    </tr>\n",
       "    <tr>\n",
       "      <th>59</th>\n",
       "      <td>1.0000</td>\n",
       "      <td>3.00</td>\n",
       "      <td>10000</td>\n",
       "      <td>0.3505</td>\n",
       "      <td>0.3348</td>\n",
       "    </tr>\n",
       "    <tr>\n",
       "      <th>60</th>\n",
       "      <td>0.0001</td>\n",
       "      <td>10.00</td>\n",
       "      <td>1000</td>\n",
       "      <td>0.3010</td>\n",
       "      <td>0.3299</td>\n",
       "    </tr>\n",
       "    <tr>\n",
       "      <th>61</th>\n",
       "      <td>0.0010</td>\n",
       "      <td>10.00</td>\n",
       "      <td>1000</td>\n",
       "      <td>0.3010</td>\n",
       "      <td>0.3299</td>\n",
       "    </tr>\n",
       "    <tr>\n",
       "      <th>62</th>\n",
       "      <td>0.0100</td>\n",
       "      <td>10.00</td>\n",
       "      <td>1000</td>\n",
       "      <td>0.3010</td>\n",
       "      <td>0.3299</td>\n",
       "    </tr>\n",
       "    <tr>\n",
       "      <th>63</th>\n",
       "      <td>0.1000</td>\n",
       "      <td>10.00</td>\n",
       "      <td>1000</td>\n",
       "      <td>0.3050</td>\n",
       "      <td>0.3295</td>\n",
       "    </tr>\n",
       "    <tr>\n",
       "      <th>64</th>\n",
       "      <td>1.0000</td>\n",
       "      <td>10.00</td>\n",
       "      <td>1000</td>\n",
       "      <td>0.3510</td>\n",
       "      <td>0.3418</td>\n",
       "    </tr>\n",
       "    <tr>\n",
       "      <th>65</th>\n",
       "      <td>0.0001</td>\n",
       "      <td>10.00</td>\n",
       "      <td>10000</td>\n",
       "      <td>0.3010</td>\n",
       "      <td>0.3299</td>\n",
       "    </tr>\n",
       "    <tr>\n",
       "      <th>66</th>\n",
       "      <td>0.0010</td>\n",
       "      <td>10.00</td>\n",
       "      <td>10000</td>\n",
       "      <td>0.3010</td>\n",
       "      <td>0.3299</td>\n",
       "    </tr>\n",
       "    <tr>\n",
       "      <th>67</th>\n",
       "      <td>0.0100</td>\n",
       "      <td>10.00</td>\n",
       "      <td>10000</td>\n",
       "      <td>0.3010</td>\n",
       "      <td>0.3299</td>\n",
       "    </tr>\n",
       "    <tr>\n",
       "      <th>68</th>\n",
       "      <td>0.1000</td>\n",
       "      <td>10.00</td>\n",
       "      <td>10000</td>\n",
       "      <td>0.3050</td>\n",
       "      <td>0.3295</td>\n",
       "    </tr>\n",
       "    <tr>\n",
       "      <th>69</th>\n",
       "      <td>1.0000</td>\n",
       "      <td>10.00</td>\n",
       "      <td>10000</td>\n",
       "      <td>0.3510</td>\n",
       "      <td>0.3418</td>\n",
       "    </tr>\n",
       "  </tbody>\n",
       "</table>\n",
       "<p>70 rows × 5 columns</p>\n",
       "</div>"
      ],
      "text/plain": [
       "       tol      C  max_iter    mean     std\n",
       "0   0.0001   0.01      1000  0.0000  0.0000\n",
       "1   0.0010   0.01      1000  0.0000  0.0000\n",
       "2   0.0100   0.01      1000  0.0000  0.0000\n",
       "3   0.1000   0.01      1000  0.0000  0.0000\n",
       "4   1.0000   0.01      1000  0.0000  0.0000\n",
       "5   0.0001   0.01     10000  0.0000  0.0000\n",
       "6   0.0010   0.01     10000  0.0000  0.0000\n",
       "7   0.0100   0.01     10000  0.0000  0.0000\n",
       "8   0.1000   0.01     10000  0.0000  0.0000\n",
       "9   1.0000   0.01     10000  0.0000  0.0000\n",
       "10  0.0001   0.03      1000  0.0000  0.0000\n",
       "11  0.0010   0.03      1000  0.0000  0.0000\n",
       "12  0.0100   0.03      1000  0.0000  0.0000\n",
       "13  0.1000   0.03      1000  0.0000  0.0000\n",
       "14  1.0000   0.03      1000  0.0000  0.0000\n",
       "15  0.0001   0.03     10000  0.0000  0.0000\n",
       "16  0.0010   0.03     10000  0.0000  0.0000\n",
       "17  0.0100   0.03     10000  0.0000  0.0000\n",
       "18  0.1000   0.03     10000  0.0000  0.0000\n",
       "19  1.0000   0.03     10000  0.0000  0.0000\n",
       "20  0.0001   0.10      1000  0.4585  0.1598\n",
       "21  0.0010   0.10      1000  0.4585  0.1598\n",
       "22  0.0100   0.10      1000  0.4585  0.1598\n",
       "23  0.1000   0.10      1000  0.4585  0.1598\n",
       "24  1.0000   0.10      1000  0.4568  0.1602\n",
       "25  0.0001   0.10     10000  0.4585  0.1598\n",
       "26  0.0010   0.10     10000  0.4585  0.1598\n",
       "27  0.0100   0.10     10000  0.4585  0.1598\n",
       "28  0.1000   0.10     10000  0.4585  0.1598\n",
       "29  1.0000   0.10     10000  0.4568  0.1602\n",
       "..     ...    ...       ...     ...     ...\n",
       "40  0.0001   1.00      1000  0.3209  0.3165\n",
       "41  0.0010   1.00      1000  0.3209  0.3165\n",
       "42  0.0100   1.00      1000  0.3209  0.3165\n",
       "43  0.1000   1.00      1000  0.3209  0.3165\n",
       "44  1.0000   1.00      1000  0.3109  0.3177\n",
       "45  0.0001   1.00     10000  0.3209  0.3165\n",
       "46  0.0010   1.00     10000  0.3209  0.3165\n",
       "47  0.0100   1.00     10000  0.3209  0.3165\n",
       "48  0.1000   1.00     10000  0.3209  0.3165\n",
       "49  1.0000   1.00     10000  0.3109  0.3177\n",
       "50  0.0001   3.00      1000  0.3409  0.3371\n",
       "51  0.0010   3.00      1000  0.3409  0.3371\n",
       "52  0.0100   3.00      1000  0.3409  0.3371\n",
       "53  0.1000   3.00      1000  0.3492  0.3380\n",
       "54  1.0000   3.00      1000  0.3505  0.3348\n",
       "55  0.0001   3.00     10000  0.3409  0.3371\n",
       "56  0.0010   3.00     10000  0.3409  0.3371\n",
       "57  0.0100   3.00     10000  0.3409  0.3371\n",
       "58  0.1000   3.00     10000  0.3492  0.3380\n",
       "59  1.0000   3.00     10000  0.3505  0.3348\n",
       "60  0.0001  10.00      1000  0.3010  0.3299\n",
       "61  0.0010  10.00      1000  0.3010  0.3299\n",
       "62  0.0100  10.00      1000  0.3010  0.3299\n",
       "63  0.1000  10.00      1000  0.3050  0.3295\n",
       "64  1.0000  10.00      1000  0.3510  0.3418\n",
       "65  0.0001  10.00     10000  0.3010  0.3299\n",
       "66  0.0010  10.00     10000  0.3010  0.3299\n",
       "67  0.0100  10.00     10000  0.3010  0.3299\n",
       "68  0.1000  10.00     10000  0.3050  0.3295\n",
       "69  1.0000  10.00     10000  0.3510  0.3418\n",
       "\n",
       "[70 rows x 5 columns]"
      ]
     },
     "execution_count": 37,
     "metadata": {},
     "output_type": "execute_result"
    }
   ],
   "source": [
    "### check on grid score\n",
    "gridScoreReader(tuning_score)"
   ]
  },
  {
   "cell_type": "markdown",
   "metadata": {},
   "source": [
    "## Check on New Features"
   ]
  },
  {
   "cell_type": "code",
   "execution_count": 38,
   "metadata": {
    "collapsed": false,
    "scrolled": true
   },
   "outputs": [
    {
     "data": {
      "text/plain": [
       "[('exercised_stock_options', 48.199664450333884),\n",
       " ('total_stock_value', 46.001584736067642),\n",
       " ('bonus', 21.950219801237161),\n",
       " ('salary', 19.140239707996489),\n",
       " ('restricted_stock', 15.482007763701214),\n",
       " ('total_payments', 13.680467178490581),\n",
       " ('deferred_income', 12.530912119354886),\n",
       " ('loan_advances', 12.278693490436364),\n",
       " ('long_term_incentive', 9.5614280572510175),\n",
       " ('shared_receipt_with_poi', 9.2829629607002513),\n",
       " ('other', 5.5186835284704907),\n",
       " ('from_poi_to_this_person', 3.3010717304175339),\n",
       " ('expenses', 2.8959851330215471),\n",
       " ('to_messages', 2.7078004483508198),\n",
       " ('director_fees', 1.1029488939406515),\n",
       " ('from_messages', 0.40003312086491077),\n",
       " ('restricted_stock_deferred', 0.041256860838072271),\n",
       " ('from_this_person_to_poi', 0.030604543632703762),\n",
       " ('deferral_payments', 0.0078770686768006581)]"
      ]
     },
     "execution_count": 38,
     "metadata": {},
     "output_type": "execute_result"
    }
   ],
   "source": [
    "### check feature scores on features list\n",
    "k_best_result = zip(features_list[1:], pipeline.steps[1][1].scores_)\n",
    "k_best_result.sort(key=lambda value:value[1], reverse=True)\n",
    "k_best_result"
   ]
  },
  {
   "cell_type": "code",
   "execution_count": 39,
   "metadata": {
    "collapsed": false,
    "scrolled": true
   },
   "outputs": [
    {
     "data": {
      "text/plain": [
       "[('exercised_stock_options', 40.529710086700682),\n",
       " ('total_stock_value', 35.706615482049926),\n",
       " ('bonus', 25.033805385034718),\n",
       " ('salary', 18.593163299884477),\n",
       " ('total_payments', 14.111074313666634),\n",
       " ('loan_advances', 12.278693490436364),\n",
       " ('deferred_income', 11.97890150389588),\n",
       " ('shared_receipt_with_poi', 11.815694083518178),\n",
       " ('long_term_incentive', 11.402974114242438),\n",
       " ('restricted_stock', 9.4221512346744021),\n",
       " ('from_poi_to_this_person', 5.2485006311605744),\n",
       " ('other', 4.9649349086469821),\n",
       " ('to_messages', 3.3250204796115459),\n",
       " ('expenses', 3.2356768308465655),\n",
       " ('poi_from_ratio', 2.7265906795880195),\n",
       " ('director_fees', 1.1029488939406515),\n",
       " ('from_messages', 0.37186172432982012),\n",
       " ('from_this_person_to_poi', 0.19569546550451911),\n",
       " ('poi_to_ratio', 0.11731582927542671),\n",
       " ('stock_salary_ratio', 0.075310299040377934),\n",
       " ('restricted_stock_deferred', 0.041256860838072271),\n",
       " ('deferral_payments', 7.8036335005287667e-05)]"
      ]
     },
     "execution_count": 39,
     "metadata": {},
     "output_type": "execute_result"
    }
   ],
   "source": [
    "### check feature scores on new features list\n",
    "k_best_result = zip(new_features_list[1:], model_sets_new[20][1].steps[1][1].scores_)\n",
    "k_best_result.sort(key=lambda value:value[1], reverse=True)\n",
    "k_best_result"
   ]
  },
  {
   "cell_type": "code",
   "execution_count": 40,
   "metadata": {
    "collapsed": false
   },
   "outputs": [
    {
     "data": {
      "text/plain": [
       "array([  3.56811845e-01,   1.57685987e-01,   1.11983760e-01,\n",
       "         8.90963723e-02,   7.44390641e-02,   4.17206630e-02,\n",
       "         2.98720903e-02,   2.84041941e-02,   2.52390871e-02,\n",
       "         2.23225267e-02,   1.78210489e-02,   1.48458367e-02,\n",
       "         1.08827548e-02,   9.87503424e-03,   3.76890068e-03,\n",
       "         3.44330535e-03,   1.76636251e-03,   2.11564010e-05,\n",
       "         1.08240901e-08])"
      ]
     },
     "execution_count": 40,
     "metadata": {},
     "output_type": "execute_result"
    }
   ],
   "source": [
    "### check pca explained variance ratio on features list\n",
    "pca = pipeline.steps[2][1]\n",
    "pca.explained_variance_ratio_ "
   ]
  },
  {
   "cell_type": "code",
   "execution_count": 41,
   "metadata": {
    "collapsed": false
   },
   "outputs": [
    {
     "data": {
      "text/plain": [
       "array([  3.31505684e-01,   1.46620943e-01,   1.01349680e-01,\n",
       "         8.18398815e-02,   7.42298958e-02,   4.39146222e-02,\n",
       "         3.59014828e-02,   3.24132367e-02,   2.60436754e-02,\n",
       "         2.31575774e-02,   2.18316886e-02,   1.84123140e-02,\n",
       "         1.63387224e-02,   1.24725421e-02,   1.08888005e-02,\n",
       "         9.16056342e-03,   6.10801500e-03,   3.43662924e-03,\n",
       "         3.02897271e-03,   1.32822108e-03,   1.68427666e-05,\n",
       "         9.77930437e-09])"
      ]
     },
     "execution_count": 41,
     "metadata": {},
     "output_type": "execute_result"
    }
   ],
   "source": [
    "### check pca explained variance ratio on new features list\n",
    "pca_new = model_sets_new[20][1].steps[2][1]\n",
    "pca_new.explained_variance_ratio_ "
   ]
  },
  {
   "cell_type": "markdown",
   "metadata": {},
   "source": [
    "## Choosing Outlier Cleaning Ratio"
   ]
  },
  {
   "cell_type": "code",
   "execution_count": 42,
   "metadata": {
    "collapsed": false,
    "scrolled": true
   },
   "outputs": [
    {
     "name": "stdout",
     "output_type": "stream",
     "text": [
      "ratio:  0\n",
      "Accuracy: 0.7137, Precision: 0.2972, Recall: 0.8405, F1: 0.4391, F2: 0.6155 \n",
      "\n",
      "ratio:  0.001\n",
      "Accuracy: 0.7137, Precision: 0.2972, Recall: 0.8405, F1: 0.4391, F2: 0.6155 \n",
      "\n",
      "ratio:  0.006\n",
      "Accuracy: 0.7137, Precision: 0.2972, Recall: 0.8405, F1: 0.4391, F2: 0.6155 \n",
      "\n",
      "ratio:  0.01\n",
      "Accuracy: 0.7182, Precision: 0.2996, Recall: 0.8325, F1: 0.4407, F2: 0.6141 \n",
      "\n",
      "ratio:  0.02\n",
      "Accuracy: 0.7196, Precision: 0.3004, Recall: 0.83, F1: 0.4411, F2: 0.6136 \n",
      "\n",
      "ratio:  0.03\n",
      "Accuracy: 0.7175, Precision: 0.2988, Recall: 0.8305, F1: 0.4395, F2: 0.6125 \n",
      "\n",
      "ratio:  0.04\n",
      "Accuracy: 0.7135, Precision: 0.296, Recall: 0.8335, F1: 0.4369, F2: 0.6114 \n",
      "\n",
      "ratio:  0.05\n",
      "Accuracy: 0.7115, Precision: 0.2954, Recall: 0.8405, F1: 0.4372, F2: 0.6139 \n",
      "\n",
      "ratio:  0.06\n",
      "Accuracy: 0.7091, Precision: 0.2949, Recall: 0.8495, F1: 0.4378, F2: 0.6173 \n",
      "\n",
      "ratio:  0.07\n",
      "Accuracy: 0.7049, Precision: 0.2937, Recall: 0.864, F1: 0.4384, F2: 0.6223 \n",
      "\n",
      "ratio:  0.08\n",
      "Accuracy: 0.7047, Precision: 0.2934, Recall: 0.863, F1: 0.438, F2: 0.6216 \n",
      "\n",
      "ratio:  0.09\n",
      "Accuracy: 0.7029, Precision: 0.2921, Recall: 0.863, F1: 0.4365, F2: 0.6205 \n",
      "\n",
      "ratio:  0.1\n",
      "Accuracy: 0.6965, Precision: 0.2852, Recall: 0.8475, F1: 0.4268, F2: 0.6078 \n",
      "\n"
     ]
    }
   ],
   "source": [
    "### set the outliers cleaning ratio\n",
    "clean_ratio = [0, 0.001, 0.006, 0.01, 0.02, 0.03, 0.04, 0.05, 0.06, 0.07, 0.08, 0.09, 0.1]\n",
    "\n",
    "### iter on each ratio\n",
    "for ratio in clean_ratio:\n",
    "    print \"ratio: \", ratio\n",
    "    clf_ratio = pipeline\n",
    "    crossValidate(data_dict, features_list, clf_ratio, percent=ratio)\n",
    "    print \"\""
   ]
  },
  {
   "cell_type": "code",
   "execution_count": 43,
   "metadata": {
    "collapsed": true
   },
   "outputs": [],
   "source": [
    "### set the training and testing set with clean ratio of 0.02\n",
    "features_train, features_test, labels_train, labels_test = trainTestSplit(data_dict, features_list, percent=0.02)\n",
    "\n",
    "### prepare the cross validation\n",
    "sss = StratifiedShuffleSplit(labels_train, n_iter=100, random_state=42)"
   ]
  },
  {
   "cell_type": "markdown",
   "metadata": {},
   "source": [
    "## Tuning on SelectKBest"
   ]
  },
  {
   "cell_type": "code",
   "execution_count": 44,
   "metadata": {
    "collapsed": false
   },
   "outputs": [
    {
     "name": "stdout",
     "output_type": "stream",
     "text": [
      "Accuracy: 0.7218, Precision: 0.2951, Recall: 0.7825, F1: 0.4286, F2: 0.5882 \n",
      "time used:  10.0740189552\n"
     ]
    }
   ],
   "source": [
    "### record time\n",
    "t0 = time()\n",
    "\n",
    "### set the parameters\n",
    "params_k_best = {\"k_best__k\": [1, 2, 3, 4, 5, 6, 7, 8, 9, 10, 11, 12]}\n",
    "\n",
    "### fit and search\n",
    "estimator = GridSearchCV(pipeline, params_k_best, scoring='precision', cv=sss)\n",
    "estimator.fit(features_train, labels_train)\n",
    "\n",
    "### extract scores\n",
    "score_k_best = estimator.grid_scores_\n",
    "\n",
    "### get the best estimator\n",
    "clf = estimator.best_estimator_\n",
    "\n",
    "### check the model performance\n",
    "crossValidate(data_dict, features_list, clf, percent=0.02)\n",
    "\n",
    "print \"time used: \", time() - t0"
   ]
  },
  {
   "cell_type": "code",
   "execution_count": 45,
   "metadata": {
    "collapsed": false
   },
   "outputs": [],
   "source": [
    "k_best_result = zip(features_list[1:], clf.steps[1][1].scores_)\n",
    "k_best_result.sort(key=lambda value:value[1], reverse=True)"
   ]
  },
  {
   "cell_type": "code",
   "execution_count": 46,
   "metadata": {
    "collapsed": false
   },
   "outputs": [
    {
     "data": {
      "text/plain": [
       "('k_best', SelectKBest(k=5, score_func=<function f_classif at 0x106b0d8c0>))"
      ]
     },
     "execution_count": 46,
     "metadata": {},
     "output_type": "execute_result"
    }
   ],
   "source": [
    "### check on k paramter\n",
    "clf.steps[1]"
   ]
  },
  {
   "cell_type": "code",
   "execution_count": 47,
   "metadata": {
    "collapsed": false
   },
   "outputs": [
    {
     "data": {
      "text/plain": [
       "[('exercised_stock_options', 27.799226639771707),\n",
       " ('total_stock_value', 26.671113610606248),\n",
       " ('salary', 18.224124520706255),\n",
       " ('bonus', 18.162993110640791),\n",
       " ('shared_receipt_with_poi', 9.8927527370543551)]"
      ]
     },
     "execution_count": 47,
     "metadata": {},
     "output_type": "execute_result"
    }
   ],
   "source": [
    "k_best_result[:5]"
   ]
  },
  {
   "cell_type": "markdown",
   "metadata": {},
   "source": [
    "## Tuning on PCA"
   ]
  },
  {
   "cell_type": "code",
   "execution_count": 48,
   "metadata": {
    "collapsed": false
   },
   "outputs": [
    {
     "name": "stdout",
     "output_type": "stream",
     "text": [
      "Accuracy: 0.7218, Precision: 0.2951, Recall: 0.7825, F1: 0.4286, F2: 0.5882 \n",
      "time used:  9.12850880623\n"
     ]
    }
   ],
   "source": [
    "### record time\n",
    "t0 = time()\n",
    "\n",
    "### set the parameters\n",
    "params_pca = {\"pca__n_components\": [1, 2, 3, 4, 5],\n",
    "              \"pca__whiten\": [True, False]}\n",
    "\n",
    "### fit and search\n",
    "estimator = GridSearchCV(clf, params_pca, scoring='precision', cv=sss)\n",
    "estimator.fit(features_train, labels_train)\n",
    "\n",
    "### extract scores\n",
    "score_pca = estimator.grid_scores_\n",
    "\n",
    "### get the best estimator\n",
    "clf = estimator.best_estimator_\n",
    "\n",
    "### check the model performance\n",
    "crossValidate(data_dict, features_list, clf, percent=0.02)\n",
    "\n",
    "print \"time used: \", time() - t0"
   ]
  },
  {
   "cell_type": "code",
   "execution_count": 49,
   "metadata": {
    "collapsed": false
   },
   "outputs": [
    {
     "data": {
      "text/plain": [
       "array([ 0.60538249])"
      ]
     },
     "execution_count": 49,
     "metadata": {},
     "output_type": "execute_result"
    }
   ],
   "source": [
    "### check on explained ratio\n",
    "clf.steps[2][1].explained_variance_ratio_"
   ]
  },
  {
   "cell_type": "markdown",
   "metadata": {},
   "source": [
    "#Final Solution\n",
    "\n",
    "After comparing among feature selection methods, classification methods, carefully tuning parameters for the methods, the best model turned out to be a combination of the following,"
   ]
  },
  {
   "cell_type": "code",
   "execution_count": 50,
   "metadata": {
    "collapsed": false
   },
   "outputs": [
    {
     "data": {
      "text/plain": [
       "[('minmaxscaler', MinMaxScaler(copy=True, feature_range=(0, 1))),\n",
       " ('k_best', SelectKBest(k=5, score_func=<function f_classif at 0x106b0d8c0>)),\n",
       " ('pca', PCA(copy=True, n_components=1, whiten=False)),\n",
       " ('linear_svc',\n",
       "  LinearSVC(C=0.1, class_weight='auto', dual=False, fit_intercept=True,\n",
       "       intercept_scaling=1, loss='squared_hinge', max_iter=1000.0,\n",
       "       multi_class='ovr', penalty='l1', random_state=42, tol=0.0001,\n",
       "       verbose=0))]"
      ]
     },
     "execution_count": 50,
     "metadata": {},
     "output_type": "execute_result"
    }
   ],
   "source": [
    "### check on the parameters\n",
    "clf.steps"
   ]
  },
  {
   "cell_type": "code",
   "execution_count": 51,
   "metadata": {
    "collapsed": false
   },
   "outputs": [],
   "source": [
    "### prepare for the test\n",
    "clf = clf\n",
    "my_dataset = data_dict\n",
    "features_list = ['poi'] + [i[0] for i in k_best_result[:5]]\n",
    "\n",
    "### dump for testing\n",
    "dump_classifier_and_data(clf, my_dataset, features_list)"
   ]
  },
  {
   "cell_type": "code",
   "execution_count": 52,
   "metadata": {
    "collapsed": false
   },
   "outputs": [
    {
     "name": "stdout",
     "output_type": "stream",
     "text": [
      "Pipeline(steps=[('minmaxscaler', MinMaxScaler(copy=True, feature_range=(0, 1))), ('k_best', SelectKBest(k=5, score_func=<function f_classif at 0x106b0d8c0>)), ('pca', PCA(copy=True, n_components=1, whiten=False)), ('linear_svc', LinearSVC(C=0.1, class_weight='auto', dual=False, fit_intercept=True,\n",
      "     intercept_scaling=1, loss='squared_hinge', max_iter=1000.0,\n",
      "     multi_class='ovr', penalty='l1', random_state=42, tol=0.0001,\n",
      "     verbose=0))])\n",
      "\tAccuracy: 0.71864\tPrecision: 0.31302\tRecall: 0.81150\tF1: 0.45177\tF2: 0.61547\n",
      "\tTotal predictions: 14000\tTrue positives: 1623\tFalse positives: 3562\tFalse negatives:  377\tTrue negatives: 8438\n",
      "\n"
     ]
    }
   ],
   "source": [
    "### check the score from tester\n",
    "test_classifier(clf, my_dataset, features_list, folds = 1000)"
   ]
  }
 ],
 "metadata": {
  "kernelspec": {
   "display_name": "Python 2",
   "language": "python",
   "name": "python2"
  },
  "language_info": {
   "codemirror_mode": {
    "name": "ipython",
    "version": 2
   },
   "file_extension": ".py",
   "mimetype": "text/x-python",
   "name": "python",
   "nbconvert_exporter": "python",
   "pygments_lexer": "ipython2",
   "version": "2.7.10"
  }
 },
 "nbformat": 4,
 "nbformat_minor": 0
}
